{
 "metadata": {
  "language_info": {
   "codemirror_mode": {
    "name": "ipython",
    "version": 3
   },
   "file_extension": ".py",
   "mimetype": "text/x-python",
   "name": "python",
   "nbconvert_exporter": "python",
   "pygments_lexer": "ipython3",
   "version": "3.8.10-final"
  },
  "orig_nbformat": 2,
  "kernelspec": {
   "name": "python3",
   "display_name": "Python 3"
  }
 },
 "nbformat": 4,
 "nbformat_minor": 2,
 "cells": [
  {
   "cell_type": "code",
   "execution_count": 1,
   "metadata": {},
   "outputs": [],
   "source": [
    "import tally\n",
    "import os"
   ]
  },
  {
   "cell_type": "code",
   "execution_count": 16,
   "metadata": {},
   "outputs": [],
   "source": [
    "dataset = tally.DataSet(\"CSV data\")\n",
    "dataset.add_credentials(api_key=os.environ.get('tally_api_key'))\n",
    "dataset.use_csv('data/Example Data (A) - CSV Excel export.csv')"
   ]
  },
  {
   "cell_type": "code",
   "execution_count": 17,
   "metadata": {},
   "outputs": [
    {
     "output_type": "execute_result",
     "data": {
      "text/plain": "   codes                            texts missing\n1      1  CBD (central business district)    None\n2      2                           Remote    None\n3      3                            Rural    None\n4      4                         Suburban    None\n5      5                            Urban    None",
      "text/html": "<div>\n<style scoped>\n    .dataframe tbody tr th:only-of-type {\n        vertical-align: middle;\n    }\n\n    .dataframe tbody tr th {\n        vertical-align: top;\n    }\n\n    .dataframe thead th {\n        text-align: right;\n    }\n</style>\n<table border=\"1\" class=\"dataframe\">\n  <thead>\n    <tr style=\"text-align: right;\">\n      <th></th>\n      <th>codes</th>\n      <th>texts</th>\n      <th>missing</th>\n    </tr>\n  </thead>\n  <tbody>\n    <tr>\n      <th>1</th>\n      <td>1</td>\n      <td>CBD (central business district)</td>\n      <td>None</td>\n    </tr>\n    <tr>\n      <th>2</th>\n      <td>2</td>\n      <td>Remote</td>\n      <td>None</td>\n    </tr>\n    <tr>\n      <th>3</th>\n      <td>3</td>\n      <td>Rural</td>\n      <td>None</td>\n    </tr>\n    <tr>\n      <th>4</th>\n      <td>4</td>\n      <td>Suburban</td>\n      <td>None</td>\n    </tr>\n    <tr>\n      <th>5</th>\n      <td>5</td>\n      <td>Urban</td>\n      <td>None</td>\n    </tr>\n  </tbody>\n</table>\n</div>"
     },
     "metadata": {},
     "execution_count": 17
    }
   ],
   "source": [
    "dataset.meta(variable='locality')"
   ]
  },
  {
   "cell_type": "code",
   "execution_count": 18,
   "metadata": {},
   "outputs": [],
   "source": [
    "derive_conditions = [\n",
    "    (1, \"Urban\", {'locality':[1,4,5]}),\n",
    "    (2, \"Rural\", {'locality':[2,3]})\n",
    "]\n",
    "column = dataset.derive(name='urban', label='Urban or rural', cond_map=derive_conditions, qtype=\"single\")\n"
   ]
  },
  {
   "cell_type": "code",
   "execution_count": 19,
   "metadata": {},
   "outputs": [
    {
     "output_type": "execute_result",
     "data": {
      "text/plain": "Question                       Total\nValues                         Total\nQuestion              Values        \nurban. Urban or rural Base    8078.0\n                      Urban     80.8\n                      Rural     19.2",
      "text/html": "<div>\n<style scoped>\n    .dataframe tbody tr th:only-of-type {\n        vertical-align: middle;\n    }\n\n    .dataframe tbody tr th {\n        vertical-align: top;\n    }\n\n    .dataframe thead tr th {\n        text-align: left;\n    }\n\n    .dataframe thead tr:last-of-type th {\n        text-align: right;\n    }\n</style>\n<table border=\"1\" class=\"dataframe\">\n  <thead>\n    <tr>\n      <th></th>\n      <th>Question</th>\n      <th>Total</th>\n    </tr>\n    <tr>\n      <th></th>\n      <th>Values</th>\n      <th>Total</th>\n    </tr>\n    <tr>\n      <th>Question</th>\n      <th>Values</th>\n      <th></th>\n    </tr>\n  </thead>\n  <tbody>\n    <tr>\n      <th rowspan=\"3\" valign=\"top\">urban. Urban or rural</th>\n      <th>Base</th>\n      <td>8078.0</td>\n    </tr>\n    <tr>\n      <th>Urban</th>\n      <td>80.8</td>\n    </tr>\n    <tr>\n      <th>Rural</th>\n      <td>19.2</td>\n    </tr>\n  </tbody>\n</table>\n</div>"
     },
     "metadata": {},
     "execution_count": 19
    }
   ],
   "source": [
    "dataset.crosstab(x='urban', ci=['c%'])"
   ]
  },
  {
   "cell_type": "code",
   "execution_count": 20,
   "metadata": {},
   "outputs": [],
   "source": [
    "scheme={\n",
    "            'urban':{1:75.0, 2:25.0},\n",
    "            'gender':{1:49.0, 2:51.0}\n",
    "        }\n",
    "result = dataset.weight(name='Gender and urban', variable='weight_c', unique_key='resp_id', scheme=scheme)\n",
    "    "
   ]
  },
  {
   "cell_type": "code",
   "execution_count": 24,
   "metadata": {},
   "outputs": [
    {
     "output_type": "execute_result",
     "data": {
      "text/plain": "Question                       Total\nValues                         Total\nQuestion              Values        \nurban. Urban or rural Base    8078.0\n                      Urban     80.8\n                      Rural     19.2",
      "text/html": "<div>\n<style scoped>\n    .dataframe tbody tr th:only-of-type {\n        vertical-align: middle;\n    }\n\n    .dataframe tbody tr th {\n        vertical-align: top;\n    }\n\n    .dataframe thead tr th {\n        text-align: left;\n    }\n\n    .dataframe thead tr:last-of-type th {\n        text-align: right;\n    }\n</style>\n<table border=\"1\" class=\"dataframe\">\n  <thead>\n    <tr>\n      <th></th>\n      <th>Question</th>\n      <th>Total</th>\n    </tr>\n    <tr>\n      <th></th>\n      <th>Values</th>\n      <th>Total</th>\n    </tr>\n    <tr>\n      <th>Question</th>\n      <th>Values</th>\n      <th></th>\n    </tr>\n  </thead>\n  <tbody>\n    <tr>\n      <th rowspan=\"3\" valign=\"top\">urban. Urban or rural</th>\n      <th>Base</th>\n      <td>8078.0</td>\n    </tr>\n    <tr>\n      <th>Urban</th>\n      <td>80.8</td>\n    </tr>\n    <tr>\n      <th>Rural</th>\n      <td>19.2</td>\n    </tr>\n  </tbody>\n</table>\n</div>"
     },
     "metadata": {},
     "execution_count": 24
    }
   ],
   "source": [
    "dataset.crosstab(x='urban', ci=['c%'])\n"
   ]
  },
  {
   "cell_type": "code",
   "execution_count": 25,
   "metadata": {
    "tags": []
   },
   "outputs": [
    {
     "output_type": "execute_result",
     "data": {
      "text/plain": "Question                       Total\nValues                         Total\nQuestion              Values        \nurban. Urban or rural Base    8078.0\n                      Urban     75.0\n                      Rural     25.0",
      "text/html": "<div>\n<style scoped>\n    .dataframe tbody tr th:only-of-type {\n        vertical-align: middle;\n    }\n\n    .dataframe tbody tr th {\n        vertical-align: top;\n    }\n\n    .dataframe thead tr th {\n        text-align: left;\n    }\n\n    .dataframe thead tr:last-of-type th {\n        text-align: right;\n    }\n</style>\n<table border=\"1\" class=\"dataframe\">\n  <thead>\n    <tr>\n      <th></th>\n      <th>Question</th>\n      <th>Total</th>\n    </tr>\n    <tr>\n      <th></th>\n      <th>Values</th>\n      <th>Total</th>\n    </tr>\n    <tr>\n      <th>Question</th>\n      <th>Values</th>\n      <th></th>\n    </tr>\n  </thead>\n  <tbody>\n    <tr>\n      <th rowspan=\"3\" valign=\"top\">urban. Urban or rural</th>\n      <th>Base</th>\n      <td>8078.0</td>\n    </tr>\n    <tr>\n      <th>Urban</th>\n      <td>75.0</td>\n    </tr>\n    <tr>\n      <th>Rural</th>\n      <td>25.0</td>\n    </tr>\n  </tbody>\n</table>\n</div>"
     },
     "metadata": {},
     "execution_count": 25
    }
   ],
   "source": [
    "dataset.crosstab(x='urban', ci=['c%'], w='weight_c')"
   ]
  },
  {
   "cell_type": "code",
   "execution_count": 6,
   "metadata": {},
   "outputs": [
    {
     "output_type": "execute_result",
     "data": {
      "text/plain": "Question                             gender.           \\\nValues                                 Female    Male   \nQuestion Values                                         \nq2.      Base                          1561.0  1438.0   \n         Base jumping;                  104.0   101.0   \n                                          6.7     7.0   \n         Base jumping;Kite boarding;     13.0    17.0   \n                                          0.8     1.2   \n...                                       ...     ...   \n                                          0.0     0.1   \n         Snowboarding;                    4.0     6.0   \n                                          0.3     0.4   \n         Snowboarding;Parachuting;        2.0     1.0   \n                                          0.1     0.1   \n\nQuestion                                                  locality.          \\\nValues                               CBD (central business district) Remote   \nQuestion Values                                                               \nq2.      Base                                                 1200.0  271.0   \n         Base jumping;                                          85.0   14.0   \n                                                                 7.1    5.2   \n         Base jumping;Kite boarding;                            12.0    2.0   \n                                                                 1.0    0.7   \n...                                                              ...    ...   \n                                                                 0.0    0.4   \n         Snowboarding;                                           5.0    1.0   \n                                                                 0.4    0.4   \n         Snowboarding;Parachuting;                               0.0    1.0   \n                                                                 0.0    0.4   \n\nQuestion                                                     \nValues                                Rural Suburban  Urban  \nQuestion Values                                              \nq2.      Base                         270.0    435.0  767.0  \n         Base jumping;                 16.0     35.0   52.0  \n                                        5.9      8.0    6.8  \n         Base jumping;Kite boarding;    2.0      7.0    5.0  \n                                        0.7      1.6    0.7  \n...                                     ...      ...    ...  \n                                        0.0      0.0    0.0  \n         Snowboarding;                  0.0      3.0    1.0  \n                                        0.0      0.7    0.1  \n         Snowboarding;Parachuting;      0.0      1.0    1.0  \n                                        0.0      0.2    0.1  \n\n[127 rows x 7 columns]",
      "text/html": "<div>\n<style scoped>\n    .dataframe tbody tr th:only-of-type {\n        vertical-align: middle;\n    }\n\n    .dataframe tbody tr th {\n        vertical-align: top;\n    }\n\n    .dataframe thead tr th {\n        text-align: left;\n    }\n\n    .dataframe thead tr:last-of-type th {\n        text-align: right;\n    }\n</style>\n<table border=\"1\" class=\"dataframe\">\n  <thead>\n    <tr>\n      <th></th>\n      <th>Question</th>\n      <th colspan=\"2\" halign=\"left\">gender.</th>\n      <th colspan=\"5\" halign=\"left\">locality.</th>\n    </tr>\n    <tr>\n      <th></th>\n      <th>Values</th>\n      <th>Female</th>\n      <th>Male</th>\n      <th>CBD (central business district)</th>\n      <th>Remote</th>\n      <th>Rural</th>\n      <th>Suburban</th>\n      <th>Urban</th>\n    </tr>\n    <tr>\n      <th>Question</th>\n      <th>Values</th>\n      <th></th>\n      <th></th>\n      <th></th>\n      <th></th>\n      <th></th>\n      <th></th>\n      <th></th>\n    </tr>\n  </thead>\n  <tbody>\n    <tr>\n      <th rowspan=\"11\" valign=\"top\">q2.</th>\n      <th>Base</th>\n      <td>1561.0</td>\n      <td>1438.0</td>\n      <td>1200.0</td>\n      <td>271.0</td>\n      <td>270.0</td>\n      <td>435.0</td>\n      <td>767.0</td>\n    </tr>\n    <tr>\n      <th>Base jumping;</th>\n      <td>104.0</td>\n      <td>101.0</td>\n      <td>85.0</td>\n      <td>14.0</td>\n      <td>16.0</td>\n      <td>35.0</td>\n      <td>52.0</td>\n    </tr>\n    <tr>\n      <th></th>\n      <td>6.7</td>\n      <td>7.0</td>\n      <td>7.1</td>\n      <td>5.2</td>\n      <td>5.9</td>\n      <td>8.0</td>\n      <td>6.8</td>\n    </tr>\n    <tr>\n      <th>Base jumping;Kite boarding;</th>\n      <td>13.0</td>\n      <td>17.0</td>\n      <td>12.0</td>\n      <td>2.0</td>\n      <td>2.0</td>\n      <td>7.0</td>\n      <td>5.0</td>\n    </tr>\n    <tr>\n      <th></th>\n      <td>0.8</td>\n      <td>1.2</td>\n      <td>1.0</td>\n      <td>0.7</td>\n      <td>0.7</td>\n      <td>1.6</td>\n      <td>0.7</td>\n    </tr>\n    <tr>\n      <th>...</th>\n      <td>...</td>\n      <td>...</td>\n      <td>...</td>\n      <td>...</td>\n      <td>...</td>\n      <td>...</td>\n      <td>...</td>\n    </tr>\n    <tr>\n      <th></th>\n      <td>0.0</td>\n      <td>0.1</td>\n      <td>0.0</td>\n      <td>0.4</td>\n      <td>0.0</td>\n      <td>0.0</td>\n      <td>0.0</td>\n    </tr>\n    <tr>\n      <th>Snowboarding;</th>\n      <td>4.0</td>\n      <td>6.0</td>\n      <td>5.0</td>\n      <td>1.0</td>\n      <td>0.0</td>\n      <td>3.0</td>\n      <td>1.0</td>\n    </tr>\n    <tr>\n      <th></th>\n      <td>0.3</td>\n      <td>0.4</td>\n      <td>0.4</td>\n      <td>0.4</td>\n      <td>0.0</td>\n      <td>0.7</td>\n      <td>0.1</td>\n    </tr>\n    <tr>\n      <th>Snowboarding;Parachuting;</th>\n      <td>2.0</td>\n      <td>1.0</td>\n      <td>0.0</td>\n      <td>1.0</td>\n      <td>0.0</td>\n      <td>1.0</td>\n      <td>1.0</td>\n    </tr>\n    <tr>\n      <th></th>\n      <td>0.1</td>\n      <td>0.1</td>\n      <td>0.0</td>\n      <td>0.4</td>\n      <td>0.0</td>\n      <td>0.2</td>\n      <td>0.1</td>\n    </tr>\n  </tbody>\n</table>\n<p>127 rows × 7 columns</p>\n</div>"
     },
     "metadata": {},
     "execution_count": 6
    }
   ],
   "source": [
    "dataset.crosstab(x='q2', y=['gender', 'locality'], ci=['counts', 'c%'])"
   ]
  },
  {
   "cell_type": "code",
   "execution_count": null,
   "metadata": {},
   "outputs": [],
   "source": []
  }
 ]
}