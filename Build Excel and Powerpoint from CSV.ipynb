{
 "metadata": {
  "language_info": {
   "codemirror_mode": {
    "name": "ipython",
    "version": 3
   },
   "file_extension": ".py",
   "mimetype": "text/x-python",
   "name": "python",
   "nbconvert_exporter": "python",
   "pygments_lexer": "ipython3",
   "version": "3.8.10-final"
  },
  "orig_nbformat": 2,
  "kernelspec": {
   "name": "python3",
   "display_name": "Python 3"
  }
 },
 "nbformat": 4,
 "nbformat_minor": 2,
 "cells": [
  {
   "cell_type": "code",
   "execution_count": 4,
   "metadata": {},
   "outputs": [],
   "source": [
    "import tally\n",
    "import os"
   ]
  },
  {
   "cell_type": "code",
   "execution_count": 5,
   "metadata": {},
   "outputs": [],
   "source": [
    "dataset = tally.DataSet(\"CSV data\")\n",
    "dataset.add_credentials(api_key=os.environ.get('tally_api_key'))\n",
    "dataset.use_csv('data/Example Data (A) - CSV Excel export.csv')"
   ]
  },
  {
   "cell_type": "code",
   "execution_count": 6,
   "metadata": {},
   "outputs": [
    {
     "output_type": "execute_result",
     "data": {
      "text/plain": "   codes                            texts missing\n1      1  CBD (central business district)    None\n2      2                           Remote    None\n3      3                            Rural    None\n4      4                         Suburban    None\n5      5                            Urban    None",
      "text/html": "<div>\n<style scoped>\n    .dataframe tbody tr th:only-of-type {\n        vertical-align: middle;\n    }\n\n    .dataframe tbody tr th {\n        vertical-align: top;\n    }\n\n    .dataframe thead th {\n        text-align: right;\n    }\n</style>\n<table border=\"1\" class=\"dataframe\">\n  <thead>\n    <tr style=\"text-align: right;\">\n      <th></th>\n      <th>codes</th>\n      <th>texts</th>\n      <th>missing</th>\n    </tr>\n  </thead>\n  <tbody>\n    <tr>\n      <th>1</th>\n      <td>1</td>\n      <td>CBD (central business district)</td>\n      <td>None</td>\n    </tr>\n    <tr>\n      <th>2</th>\n      <td>2</td>\n      <td>Remote</td>\n      <td>None</td>\n    </tr>\n    <tr>\n      <th>3</th>\n      <td>3</td>\n      <td>Rural</td>\n      <td>None</td>\n    </tr>\n    <tr>\n      <th>4</th>\n      <td>4</td>\n      <td>Suburban</td>\n      <td>None</td>\n    </tr>\n    <tr>\n      <th>5</th>\n      <td>5</td>\n      <td>Urban</td>\n      <td>None</td>\n    </tr>\n  </tbody>\n</table>\n</div>"
     },
     "metadata": {},
     "execution_count": 6
    }
   ],
   "source": [
    "dataset.meta(variable='locality')"
   ]
  },
  {
   "cell_type": "code",
   "execution_count": 7,
   "metadata": {},
   "outputs": [],
   "source": [
    "derive_conditions = [\n",
    "    (1, \"Urban\", {'locality':[1,4,5]}),\n",
    "    (2, \"Rural\", {'locality':[2,3]})\n",
    "]\n",
    "column = dataset.derive(name='urban', label='Urban or rural', cond_map=derive_conditions, qtype=\"single\")\n"
   ]
  },
  {
   "cell_type": "code",
   "execution_count": 8,
   "metadata": {},
   "outputs": [
    {
     "output_type": "execute_result",
     "data": {
      "text/plain": "Question                       Total\nValues                         Total\nQuestion              Values        \nurban. Urban or rural Base    8078.0\n                      Urban     80.8\n                      Rural     19.2",
      "text/html": "<div>\n<style scoped>\n    .dataframe tbody tr th:only-of-type {\n        vertical-align: middle;\n    }\n\n    .dataframe tbody tr th {\n        vertical-align: top;\n    }\n\n    .dataframe thead tr th {\n        text-align: left;\n    }\n\n    .dataframe thead tr:last-of-type th {\n        text-align: right;\n    }\n</style>\n<table border=\"1\" class=\"dataframe\">\n  <thead>\n    <tr>\n      <th></th>\n      <th>Question</th>\n      <th>Total</th>\n    </tr>\n    <tr>\n      <th></th>\n      <th>Values</th>\n      <th>Total</th>\n    </tr>\n    <tr>\n      <th>Question</th>\n      <th>Values</th>\n      <th></th>\n    </tr>\n  </thead>\n  <tbody>\n    <tr>\n      <th rowspan=\"3\" valign=\"top\">urban. Urban or rural</th>\n      <th>Base</th>\n      <td>8078.0</td>\n    </tr>\n    <tr>\n      <th>Urban</th>\n      <td>80.8</td>\n    </tr>\n    <tr>\n      <th>Rural</th>\n      <td>19.2</td>\n    </tr>\n  </tbody>\n</table>\n</div>"
     },
     "metadata": {},
     "execution_count": 8
    }
   ],
   "source": [
    "dataset.crosstab(x='urban', ci=['c%'])"
   ]
  },
  {
   "cell_type": "code",
   "execution_count": 9,
   "metadata": {},
   "outputs": [],
   "source": [
    "scheme={\n",
    "            'urban':{1:75.0, 2:25.0},\n",
    "            'gender':{1:49.0, 2:51.0}\n",
    "        }\n",
    "result = dataset.weight(name='Gender and urban', variable='weight_c', unique_key='resp_id', scheme=scheme)\n",
    "    "
   ]
  },
  {
   "cell_type": "code",
   "execution_count": 11,
   "metadata": {
    "tags": []
   },
   "outputs": [
    {
     "output_type": "execute_result",
     "data": {
      "text/plain": "Question                       Total\nValues                         Total\nQuestion              Values        \nurban. Urban or rural Base    8078.0\n                      Urban     75.0\n                      Rural     25.0",
      "text/html": "<div>\n<style scoped>\n    .dataframe tbody tr th:only-of-type {\n        vertical-align: middle;\n    }\n\n    .dataframe tbody tr th {\n        vertical-align: top;\n    }\n\n    .dataframe thead tr th {\n        text-align: left;\n    }\n\n    .dataframe thead tr:last-of-type th {\n        text-align: right;\n    }\n</style>\n<table border=\"1\" class=\"dataframe\">\n  <thead>\n    <tr>\n      <th></th>\n      <th>Question</th>\n      <th>Total</th>\n    </tr>\n    <tr>\n      <th></th>\n      <th>Values</th>\n      <th>Total</th>\n    </tr>\n    <tr>\n      <th>Question</th>\n      <th>Values</th>\n      <th></th>\n    </tr>\n  </thead>\n  <tbody>\n    <tr>\n      <th rowspan=\"3\" valign=\"top\">urban. Urban or rural</th>\n      <th>Base</th>\n      <td>8078.0</td>\n    </tr>\n    <tr>\n      <th>Urban</th>\n      <td>75.0</td>\n    </tr>\n    <tr>\n      <th>Rural</th>\n      <td>25.0</td>\n    </tr>\n  </tbody>\n</table>\n</div>"
     },
     "metadata": {},
     "execution_count": 11
    }
   ],
   "source": [
    "dataset.crosstab(x='urban', ci=['c%'], w='weight_c')"
   ]
  },
  {
   "cell_type": "code",
   "execution_count": 22,
   "metadata": {},
   "outputs": [
    {
     "output_type": "execute_result",
     "data": {
      "text/plain": "Question                                        gender.           \\\nValues                                            Female    Male   \nTest-IDs                                               A       B   \nQuestion Values                                                    \nq1.      Unweighted base                          4303.0  3952.0   \n         Base                                     4054.2  4200.8   \n         Aerobics                                 1471.2  1518.6   \n                                                    36.3    36.2   \n         0.1                                                       \n         Basketball                                 61.5    70.6   \n                                                     1.5     1.7   \n         0.1                                                       \n         Football (soccer)                         424.7   478.7   \n                                                    10.5    11.4   \n         0.1                                                       \n         Hockey                                      0.9     3.0   \n                                                     0.0     0.1   \n         0.1                                                       \n         I regularly change my fitness activity     62.5    42.4   \n                                                     1.5     1.0   \n         0.1                                           B           \n         Lifting weights                          1131.9  1161.1   \n                                                    27.9    27.6   \n         0.1                                                       \n         Not applicable - I don't exercise         177.2   198.8   \n                                                     4.4     4.7   \n         0.1                                                       \n         Other                                      47.6    42.3   \n                                                     1.2     1.0   \n         0.1                                                       \n         Pilates                                   264.3   212.6   \n                                                     6.5     5.1   \n         0.1                                           B           \n         Running/jogging                           181.2   217.7   \n                                                     4.5     5.2   \n         0.1                                                       \n         Swimming                                  137.9   153.7   \n                                                     3.4     3.7   \n         0.1                                                       \n         Yoga                                       93.4   101.2   \n                                                     2.3     2.4   \n         0.1                                                       \n\nQuestion                                                             locality.   \\\nValues                                          CBD (central business district)   \nTest-IDs                                                                      C   \nQuestion Values                                                                   \nq1.      Unweighted base                                                 3106.0   \n         Base                                                            2887.7   \n         Aerobics                                                        1116.8   \n                                                                           38.7   \n         0.1                                                                D.G   \n         Basketball                                                        40.4   \n                                                                            1.4   \n         0.1                                                                      \n         Football (soccer)                                                293.4   \n                                                                           10.2   \n         0.1                                                                      \n         Hockey                                                             1.9   \n                                                                            0.1   \n         0.1                                                                      \n         I regularly change my fitness activity                            40.5   \n                                                                            1.4   \n         0.1                                                                  F   \n         Lifting weights                                                  777.3   \n                                                                           26.9   \n         0.1                                                                      \n         Not applicable - I don't exercise                                100.6   \n                                                                            3.5   \n         0.1                                                                      \n         Other                                                             33.9   \n                                                                            1.2   \n         0.1                                                                      \n         Pilates                                                          142.1   \n                                                                            4.9   \n         0.1                                                                      \n         Running/jogging                                                  146.2   \n                                                                            5.1   \n         0.1                                                                      \n         Swimming                                                         130.0   \n                                                                            4.5   \n         0.1                                                            D.E.F.G   \n         Yoga                                                              64.7   \n                                                                            2.2   \n         0.1                                                                      \n\nQuestion                                                                 \\\nValues                                           Remote  Rural Suburban   \nTest-IDs                                              D      E        F   \nQuestion Values                                                           \nq1.      Unweighted base                          829.0  718.0   1180.0   \n         Base                                    1079.6  939.9   1092.5   \n         Aerobics                                 350.3  353.5    402.1   \n                                                   32.4   37.6     36.8   \n         0.1                                               D.G        D   \n         Basketball                                15.8   20.0     22.2   \n                                                    1.5    2.1      2.0   \n         0.1                                                              \n         Football (soccer)                        129.5  112.8    121.3   \n                                                   12.0   12.0     11.1   \n         0.1                                                              \n         Hockey                                     0.0    0.0      1.0   \n                                                    0.0    0.0      0.1   \n         0.1                                                              \n         I regularly change my fitness activity    20.3   13.2      8.4   \n                                                    1.9    1.4      0.8   \n         0.1                                        F.G                   \n         Lifting weights                          316.8  228.9    297.0   \n                                                   29.3   24.4     27.2   \n         0.1                                          E                   \n         Not applicable - I don't exercise         55.4   57.2     35.9   \n                                                    5.1    6.1      3.3   \n         0.1                                        C.F    C.F            \n         Other                                      7.9   11.2     12.1   \n                                                    0.7    1.2      1.1   \n         0.1                                                              \n         Pilates                                   66.3   61.7     75.3   \n                                                    6.1    6.6      6.9   \n         0.1                                                 C        C   \n         Running/jogging                           58.6   38.4     51.3   \n                                                    5.4    4.1      4.7   \n         0.1                                                              \n         Swimming                                  33.7   19.6     34.6   \n                                                    3.1    2.1      3.2   \n         0.1                                                              \n         Yoga                                      25.1   23.3     31.3   \n                                                    2.3    2.5      2.9   \n         0.1                                                              \n\nQuestion                                                 \nValues                                            Urban  \nTest-IDs                                              G  \nQuestion Values                                          \nq1.      Unweighted base                         2245.0  \n         Base                                    2078.3  \n         Aerobics                                 711.1  \n                                                   34.2  \n         0.1                                             \n         Basketball                                32.8  \n                                                    1.6  \n         0.1                                             \n         Football (soccer)                        224.5  \n                                                   10.8  \n         0.1                                             \n         Hockey                                     1.0  \n                                                    0.0  \n         0.1                                             \n         I regularly change my fitness activity    20.4  \n                                                    1.0  \n         0.1                                             \n         Lifting weights                          619.0  \n                                                   29.8  \n         0.1                                        C.E  \n         Not applicable - I don't exercise        121.9  \n                                                    5.9  \n         0.1                                        C.F  \n         Other                                     22.7  \n                                                    1.1  \n         0.1                                             \n         Pilates                                  116.4  \n                                                    5.6  \n         0.1                                             \n         Running/jogging                           96.4  \n                                                    4.6  \n         0.1                                             \n         Swimming                                  66.8  \n                                                    3.2  \n         0.1                                             \n         Yoga                                      45.2  \n                                                    2.2  \n         0.1                                             ",
      "text/html": "<div>\n<style scoped>\n    .dataframe tbody tr th:only-of-type {\n        vertical-align: middle;\n    }\n\n    .dataframe tbody tr th {\n        vertical-align: top;\n    }\n\n    .dataframe thead tr th {\n        text-align: left;\n    }\n\n    .dataframe thead tr:last-of-type th {\n        text-align: right;\n    }\n</style>\n<table border=\"1\" class=\"dataframe\">\n  <thead>\n    <tr>\n      <th></th>\n      <th>Question</th>\n      <th colspan=\"2\" halign=\"left\">gender.</th>\n      <th colspan=\"5\" halign=\"left\">locality.</th>\n    </tr>\n    <tr>\n      <th></th>\n      <th>Values</th>\n      <th>Female</th>\n      <th>Male</th>\n      <th>CBD (central business district)</th>\n      <th>Remote</th>\n      <th>Rural</th>\n      <th>Suburban</th>\n      <th>Urban</th>\n    </tr>\n    <tr>\n      <th></th>\n      <th>Test-IDs</th>\n      <th>A</th>\n      <th>B</th>\n      <th>C</th>\n      <th>D</th>\n      <th>E</th>\n      <th>F</th>\n      <th>G</th>\n    </tr>\n    <tr>\n      <th>Question</th>\n      <th>Values</th>\n      <th></th>\n      <th></th>\n      <th></th>\n      <th></th>\n      <th></th>\n      <th></th>\n      <th></th>\n    </tr>\n  </thead>\n  <tbody>\n    <tr>\n      <th rowspan=\"38\" valign=\"top\">q1.</th>\n      <th>Unweighted base</th>\n      <td>4303.0</td>\n      <td>3952.0</td>\n      <td>3106.0</td>\n      <td>829.0</td>\n      <td>718.0</td>\n      <td>1180.0</td>\n      <td>2245.0</td>\n    </tr>\n    <tr>\n      <th>Base</th>\n      <td>4054.2</td>\n      <td>4200.8</td>\n      <td>2887.7</td>\n      <td>1079.6</td>\n      <td>939.9</td>\n      <td>1092.5</td>\n      <td>2078.3</td>\n    </tr>\n    <tr>\n      <th>Aerobics</th>\n      <td>1471.2</td>\n      <td>1518.6</td>\n      <td>1116.8</td>\n      <td>350.3</td>\n      <td>353.5</td>\n      <td>402.1</td>\n      <td>711.1</td>\n    </tr>\n    <tr>\n      <th></th>\n      <td>36.3</td>\n      <td>36.2</td>\n      <td>38.7</td>\n      <td>32.4</td>\n      <td>37.6</td>\n      <td>36.8</td>\n      <td>34.2</td>\n    </tr>\n    <tr>\n      <th>0.1</th>\n      <td></td>\n      <td></td>\n      <td>D.G</td>\n      <td></td>\n      <td>D.G</td>\n      <td>D</td>\n      <td></td>\n    </tr>\n    <tr>\n      <th>Basketball</th>\n      <td>61.5</td>\n      <td>70.6</td>\n      <td>40.4</td>\n      <td>15.8</td>\n      <td>20.0</td>\n      <td>22.2</td>\n      <td>32.8</td>\n    </tr>\n    <tr>\n      <th></th>\n      <td>1.5</td>\n      <td>1.7</td>\n      <td>1.4</td>\n      <td>1.5</td>\n      <td>2.1</td>\n      <td>2.0</td>\n      <td>1.6</td>\n    </tr>\n    <tr>\n      <th>0.1</th>\n      <td></td>\n      <td></td>\n      <td></td>\n      <td></td>\n      <td></td>\n      <td></td>\n      <td></td>\n    </tr>\n    <tr>\n      <th>Football (soccer)</th>\n      <td>424.7</td>\n      <td>478.7</td>\n      <td>293.4</td>\n      <td>129.5</td>\n      <td>112.8</td>\n      <td>121.3</td>\n      <td>224.5</td>\n    </tr>\n    <tr>\n      <th></th>\n      <td>10.5</td>\n      <td>11.4</td>\n      <td>10.2</td>\n      <td>12.0</td>\n      <td>12.0</td>\n      <td>11.1</td>\n      <td>10.8</td>\n    </tr>\n    <tr>\n      <th>0.1</th>\n      <td></td>\n      <td></td>\n      <td></td>\n      <td></td>\n      <td></td>\n      <td></td>\n      <td></td>\n    </tr>\n    <tr>\n      <th>Hockey</th>\n      <td>0.9</td>\n      <td>3.0</td>\n      <td>1.9</td>\n      <td>0.0</td>\n      <td>0.0</td>\n      <td>1.0</td>\n      <td>1.0</td>\n    </tr>\n    <tr>\n      <th></th>\n      <td>0.0</td>\n      <td>0.1</td>\n      <td>0.1</td>\n      <td>0.0</td>\n      <td>0.0</td>\n      <td>0.1</td>\n      <td>0.0</td>\n    </tr>\n    <tr>\n      <th>0.1</th>\n      <td></td>\n      <td></td>\n      <td></td>\n      <td></td>\n      <td></td>\n      <td></td>\n      <td></td>\n    </tr>\n    <tr>\n      <th>I regularly change my fitness activity</th>\n      <td>62.5</td>\n      <td>42.4</td>\n      <td>40.5</td>\n      <td>20.3</td>\n      <td>13.2</td>\n      <td>8.4</td>\n      <td>20.4</td>\n    </tr>\n    <tr>\n      <th></th>\n      <td>1.5</td>\n      <td>1.0</td>\n      <td>1.4</td>\n      <td>1.9</td>\n      <td>1.4</td>\n      <td>0.8</td>\n      <td>1.0</td>\n    </tr>\n    <tr>\n      <th>0.1</th>\n      <td>B</td>\n      <td></td>\n      <td>F</td>\n      <td>F.G</td>\n      <td></td>\n      <td></td>\n      <td></td>\n    </tr>\n    <tr>\n      <th>Lifting weights</th>\n      <td>1131.9</td>\n      <td>1161.1</td>\n      <td>777.3</td>\n      <td>316.8</td>\n      <td>228.9</td>\n      <td>297.0</td>\n      <td>619.0</td>\n    </tr>\n    <tr>\n      <th></th>\n      <td>27.9</td>\n      <td>27.6</td>\n      <td>26.9</td>\n      <td>29.3</td>\n      <td>24.4</td>\n      <td>27.2</td>\n      <td>29.8</td>\n    </tr>\n    <tr>\n      <th>0.1</th>\n      <td></td>\n      <td></td>\n      <td></td>\n      <td>E</td>\n      <td></td>\n      <td></td>\n      <td>C.E</td>\n    </tr>\n    <tr>\n      <th>Not applicable - I don't exercise</th>\n      <td>177.2</td>\n      <td>198.8</td>\n      <td>100.6</td>\n      <td>55.4</td>\n      <td>57.2</td>\n      <td>35.9</td>\n      <td>121.9</td>\n    </tr>\n    <tr>\n      <th></th>\n      <td>4.4</td>\n      <td>4.7</td>\n      <td>3.5</td>\n      <td>5.1</td>\n      <td>6.1</td>\n      <td>3.3</td>\n      <td>5.9</td>\n    </tr>\n    <tr>\n      <th>0.1</th>\n      <td></td>\n      <td></td>\n      <td></td>\n      <td>C.F</td>\n      <td>C.F</td>\n      <td></td>\n      <td>C.F</td>\n    </tr>\n    <tr>\n      <th>Other</th>\n      <td>47.6</td>\n      <td>42.3</td>\n      <td>33.9</td>\n      <td>7.9</td>\n      <td>11.2</td>\n      <td>12.1</td>\n      <td>22.7</td>\n    </tr>\n    <tr>\n      <th></th>\n      <td>1.2</td>\n      <td>1.0</td>\n      <td>1.2</td>\n      <td>0.7</td>\n      <td>1.2</td>\n      <td>1.1</td>\n      <td>1.1</td>\n    </tr>\n    <tr>\n      <th>0.1</th>\n      <td></td>\n      <td></td>\n      <td></td>\n      <td></td>\n      <td></td>\n      <td></td>\n      <td></td>\n    </tr>\n    <tr>\n      <th>Pilates</th>\n      <td>264.3</td>\n      <td>212.6</td>\n      <td>142.1</td>\n      <td>66.3</td>\n      <td>61.7</td>\n      <td>75.3</td>\n      <td>116.4</td>\n    </tr>\n    <tr>\n      <th></th>\n      <td>6.5</td>\n      <td>5.1</td>\n      <td>4.9</td>\n      <td>6.1</td>\n      <td>6.6</td>\n      <td>6.9</td>\n      <td>5.6</td>\n    </tr>\n    <tr>\n      <th>0.1</th>\n      <td>B</td>\n      <td></td>\n      <td></td>\n      <td></td>\n      <td>C</td>\n      <td>C</td>\n      <td></td>\n    </tr>\n    <tr>\n      <th>Running/jogging</th>\n      <td>181.2</td>\n      <td>217.7</td>\n      <td>146.2</td>\n      <td>58.6</td>\n      <td>38.4</td>\n      <td>51.3</td>\n      <td>96.4</td>\n    </tr>\n    <tr>\n      <th></th>\n      <td>4.5</td>\n      <td>5.2</td>\n      <td>5.1</td>\n      <td>5.4</td>\n      <td>4.1</td>\n      <td>4.7</td>\n      <td>4.6</td>\n    </tr>\n    <tr>\n      <th>0.1</th>\n      <td></td>\n      <td></td>\n      <td></td>\n      <td></td>\n      <td></td>\n      <td></td>\n      <td></td>\n    </tr>\n    <tr>\n      <th>Swimming</th>\n      <td>137.9</td>\n      <td>153.7</td>\n      <td>130.0</td>\n      <td>33.7</td>\n      <td>19.6</td>\n      <td>34.6</td>\n      <td>66.8</td>\n    </tr>\n    <tr>\n      <th></th>\n      <td>3.4</td>\n      <td>3.7</td>\n      <td>4.5</td>\n      <td>3.1</td>\n      <td>2.1</td>\n      <td>3.2</td>\n      <td>3.2</td>\n    </tr>\n    <tr>\n      <th>0.1</th>\n      <td></td>\n      <td></td>\n      <td>D.E.F.G</td>\n      <td></td>\n      <td></td>\n      <td></td>\n      <td></td>\n    </tr>\n    <tr>\n      <th>Yoga</th>\n      <td>93.4</td>\n      <td>101.2</td>\n      <td>64.7</td>\n      <td>25.1</td>\n      <td>23.3</td>\n      <td>31.3</td>\n      <td>45.2</td>\n    </tr>\n    <tr>\n      <th></th>\n      <td>2.3</td>\n      <td>2.4</td>\n      <td>2.2</td>\n      <td>2.3</td>\n      <td>2.5</td>\n      <td>2.9</td>\n      <td>2.2</td>\n    </tr>\n    <tr>\n      <th>0.1</th>\n      <td></td>\n      <td></td>\n      <td></td>\n      <td></td>\n      <td></td>\n      <td></td>\n      <td></td>\n    </tr>\n  </tbody>\n</table>\n</div>"
     },
     "metadata": {},
     "execution_count": 22
    }
   ],
   "source": [
    "dataset.crosstab(x='q1', y=['gender', 'locality'], ci=['counts', 'c%'], sig_level=[0.1], w='weight_c', base='both').fillna('')"
   ]
  },
  {
   "cell_type": "code",
   "execution_count": null,
   "metadata": {},
   "outputs": [],
   "source": []
  }
 ]
}