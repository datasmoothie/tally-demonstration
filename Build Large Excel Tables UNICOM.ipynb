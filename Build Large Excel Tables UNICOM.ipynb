{
 "cells": [
  {
   "cell_type": "markdown",
   "metadata": {},
   "source": [
    "# Step 1: Load your survey data\n",
    "\n",
    "First, install the Tally Python client with pip install datasmoothie-tally-client.\n",
    "Then, import the Tally library, add your API key (email info at datasmoothie.com if you need one) and select your data."
   ]
  },
  {
   "cell_type": "code",
   "execution_count": 32,
   "metadata": {},
   "outputs": [],
   "source": [
    "import tally\n",
    "import os\n",
    "keys = {'tally': os.environ.get('tally_api_key')}"
   ]
  },
  {
   "cell_type": "code",
   "execution_count": 33,
   "metadata": {},
   "outputs": [],
   "source": [
    "dataset = tally.DataSet(api_key=keys['tally'])\n",
    "dataset.use_unicom('data/Example_Museum.mdd', 'data/Example_Museum.ddf')"
   ]
  },
  {
   "cell_type": "markdown",
   "metadata": {},
   "source": [
    "# Step 2: Decide what variables to include in your tables\n",
    "The client has helper functions for you to explore your data, like variables, meta, codes, variable_text to show you a list of your variables, and show you meta data, list of codes/answers and the label for a given variable, respectively."
   ]
  },
  {
   "cell_type": "code",
   "execution_count": 34,
   "metadata": {},
   "outputs": [],
   "source": [
    "all_variables = dataset.variables(format='dict')"
   ]
  },
  {
   "cell_type": "code",
   "execution_count": 35,
   "metadata": {},
   "outputs": [],
   "source": [
    "banner_vars = ['gender', 'education', 'age']\n",
    "stub_vars = [i for i in all_variables['single'] if i not in banner_vars]\n",
    "stub_vars = stub_vars + list(all_variables['delimited set'])"
   ]
  },
  {
   "cell_type": "markdown",
   "metadata": {},
   "source": [
    "# Step 3: Decide on contents, look and feel\n",
    "We've loaded our data, and we've decided what to include in our tables. Now we create the Excel file.\n",
    "First we define how our build should look like. All options can be set on a build, sheet or table level. For example, you could add descriptive statistic calculations only on particular sheets, or a single table within a sheet."
   ]
  },
  {
   "cell_type": "code",
   "execution_count": 28,
   "metadata": {},
   "outputs": [],
   "source": [
    "build = tally.Build(\n",
    "    name=\"Museum project\", \n",
    "    subtitle=\"Annual research conducted by agency X\",\n",
    "    default_dataset=dataset,\n",
    "    table_of_contents=True,\n",
    "    logo='./images/datasmoothie-logo.png'\n",
    ")"
   ]
  },
  {
   "cell_type": "code",
   "execution_count": 29,
   "metadata": {},
   "outputs": [],
   "source": [
    "build.options.set_sig_test_levels(0.05) # for sigtests\n",
    "build.options.set_ci(['c%'])\n",
    "build.options.freeze_panes(9, 1)"
   ]
  },
  {
   "cell_type": "markdown",
   "metadata": {},
   "source": [
    "# Step 4: Build and save the Excel file\n",
    "Finally, we create sheets and add tables to them. For this file, we only have one table per sheet, but we can have as many as we need."
   ]
  },
  {
   "cell_type": "code",
   "execution_count": null,
   "metadata": {},
   "outputs": [],
   "source": [
    "for stub in stub_vars:\n",
    "    sheet = build.add_sheet(banner=banner_vars)\n",
    "    sheet.add_table(stub={\"x\":stub})"
   ]
  },
  {
   "cell_type": "code",
   "execution_count": 31,
   "metadata": {},
   "outputs": [],
   "source": [
    "build.save_excel('new_test.xlsx')"
   ]
  }
 ],
 "metadata": {
  "kernelspec": {
   "display_name": "Python 3.8.13 64-bit ('3.8.13')",
   "language": "python",
   "name": "python3"
  },
  "language_info": {
   "codemirror_mode": {
    "name": "ipython",
    "version": 3
   },
   "file_extension": ".py",
   "mimetype": "text/x-python",
   "name": "python",
   "nbconvert_exporter": "python",
   "pygments_lexer": "ipython3",
   "version": "3.8.13"
  },
  "orig_nbformat": 4,
  "vscode": {
   "interpreter": {
    "hash": "110cc1dee26208153f2972f08a2ad52b6a56238dc66d48e87fb757ef2996db56"
   }
  }
 },
 "nbformat": 4,
 "nbformat_minor": 2
}
