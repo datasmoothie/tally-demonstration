{
 "cells": [
  {
   "attachments": {},
   "cell_type": "markdown",
   "metadata": {},
   "source": [
    "# Analysing Twitter's reaction using the Twitter API, Sentiment analysis and survey tech\n",
    "\n",
    "### First, install packages and import libraries"
   ]
  },
  {
   "cell_type": "code",
   "execution_count": 1,
   "metadata": {},
   "outputs": [],
   "source": [
    "!pip install datasmoothie-tally-client -q\n",
    "!pip install vaderSentiment -q"
   ]
  },
  {
   "cell_type": "code",
   "execution_count": 2,
   "metadata": {},
   "outputs": [],
   "source": [
    "import tally\n",
    "import os\n",
    "import requests\n",
    "import re\n",
    "from vaderSentiment.vaderSentiment import SentimentIntensityAnalyzer\n",
    "import json\n",
    "import time\n",
    "import pandas as pd\n",
    "pd.set_option('display.max_colwidth', None)\n",
    "import datetime\n"
   ]
  },
  {
   "attachments": {},
   "cell_type": "markdown",
   "metadata": {},
   "source": [
    "### Create the Tally dataset object and get the required tokens \n",
    "\n",
    "We store the tockens as environment variables, as these should never be shared in public repositories"
   ]
  },
  {
   "cell_type": "code",
   "execution_count": 3,
   "metadata": {},
   "outputs": [],
   "source": [
    "# we store the tally key in an environment variable, get in touch to get your own key\n",
    "dataset = tally.DataSet(api_key=os.environ.get('TALLY_API_KEY'))\n",
    "\n",
    "# our twitter API access token\n",
    "bearer_token = os.environ.get('TWITTER_BEARER_TOKEN')\n",
    "\n",
    "headers = {\"Authorization\": \"Bearer {}\".format(bearer_token),\"Content-Type\": \"application/json\"}\n",
    "search_api_path = 'https://api.twitter.com/2/tweets/search/recent'"
   ]
  },
  {
   "attachments": {},
   "cell_type": "markdown",
   "metadata": {},
   "source": [
    "# Part I: Run this section once for every date you are interested in"
   ]
  },
  {
   "attachments": {},
   "cell_type": "markdown",
   "metadata": {},
   "source": [
    "### Set the dates requested so that Twitter fetches results from a specific interval\n",
    "\n",
    "This needs to be changhed every time the loop is run. For example, to get two dates worth of Tweets, changes this cell two times, with different dates, and run the loop below after each change."
   ]
  },
  {
   "cell_type": "code",
   "execution_count": 4,
   "metadata": {},
   "outputs": [
    {
     "data": {
      "text/plain": [
       "('2022-12-06T18:00:00+00:00', '2022-12-07T18:00:00+00:00')"
      ]
     },
     "execution_count": 4,
     "metadata": {},
     "output_type": "execute_result"
    }
   ],
   "source": [
    "required_date = datetime.datetime(2022, 12, 6, 18)\n",
    "day_after = required_date.astimezone(datetime.timezone.utc) + datetime.timedelta(1)\n",
    "start_time = required_date.astimezone(datetime.timezone.utc).isoformat()\n",
    "end_time = day_after.isoformat()\n",
    "(start_time, end_time)"
   ]
  },
  {
   "attachments": {},
   "cell_type": "markdown",
   "metadata": {},
   "source": [
    "### Run a loop to fetch multiple pages of results, set the max at 5,000\n",
    "\n",
    "We run this code each time we change the dates. We could parameterise it of course, but this is good for now."
   ]
  },
  {
   "cell_type": "code",
   "execution_count": 5,
   "metadata": {},
   "outputs": [],
   "source": [
    "analyzer = SentimentIntensityAnalyzer()\n",
    "\n",
    "def run_twitter_search(search_term):\n",
    "    search_params = {\n",
    "        'query':'{} lang:en'.format(search_term), \n",
    "        'max_results':100, \n",
    "        'start_time':start_time,\n",
    "        'end_time':end_time\n",
    "    }\n",
    "    search_result = requests.get(search_api_path,search_params,headers=headers)\n",
    "    result_json = json.loads(search_result.content)\n",
    "\n",
    "    result_pages = []\n",
    "    if 'meta' not in result_json:\n",
    "        print(result_json.keys())\n",
    "        print(result_json)\n",
    "    next_token = result_json['meta']['next_token']\n",
    "    for i in range(0,50):\n",
    "        time.sleep(0.1)\n",
    "        next_page = requests.get(\n",
    "            search_api_path,{\n",
    "                'query':'{} lang:en'.format(search_term), \n",
    "                'max_results':100,\n",
    "                'start_time':start_time,\n",
    "                'end_time': end_time,\n",
    "                'next_token':next_token},\n",
    "            headers=headers)\n",
    "        page_json = json.loads(next_page.content)\n",
    "        result_pages.append(page_json['data'])\n",
    "        if 'next_token' in page_json['meta']:\n",
    "            next_token = page_json['meta']['next_token']\n",
    "        else:\n",
    "            return result_pages\n",
    "    \n",
    "    return result_pages\n"
   ]
  },
  {
   "attachments": {},
   "cell_type": "markdown",
   "metadata": {},
   "source": [
    "### Fetch twitter results for our three search terms"
   ]
  },
  {
   "cell_type": "code",
   "execution_count": 6,
   "metadata": {},
   "outputs": [],
   "source": [
    "pages = run_twitter_search(\"#chatgpt -is:retweet -has:media\")"
   ]
  },
  {
   "attachments": {},
   "cell_type": "markdown",
   "metadata": {},
   "source": [
    "Twitter returns json data objects with the history IDs, tweet ID and the tweet content."
   ]
  },
  {
   "cell_type": "code",
   "execution_count": 9,
   "metadata": {},
   "outputs": [
    {
     "data": {
      "text/plain": [
       "[{'edit_history_tweet_ids': ['1600540896210354176'],\n",
       "  'id': '1600540896210354176',\n",
       "  'text': '@RichardMCNgo https://t.co/1B4fnpTldH\\nhttps://t.co/HorzIGI2XW\\nhttps://t.co/dCcAY24Fvl\\nthese domains are for sale！\\n#OpenAI #ChatGPT'},\n",
       " {'edit_history_tweet_ids': ['1600540813074878465'],\n",
       "  'id': '1600540813074878465',\n",
       "  'text': '😅😂🤣💀\\n\\nThis is great. #ChatGPT prompted to have Donald Trump explain #bitcoin: https://t.co/BFYlZZiD4o'},\n",
       " {'edit_history_tweet_ids': ['1600540657722220550'],\n",
       "  'id': '1600540657722220550',\n",
       "  'text': '@ThankYourNiceAI @Miles_Brundage https://t.co/1B4fnpTldH\\nhttps://t.co/HorzIGI2XW\\nhttps://t.co/dCcAY24Fvl\\nthese domains are for sale！\\n#OpenAI #ChatGPT'}]"
      ]
     },
     "execution_count": 9,
     "metadata": {},
     "output_type": "execute_result"
    }
   ],
   "source": [
    "pages[0][:3]"
   ]
  },
  {
   "attachments": {},
   "cell_type": "markdown",
   "metadata": {},
   "source": [
    "### Extract the results into one big dataframe, which we then clean up a bit"
   ]
  },
  {
   "cell_type": "code",
   "execution_count": 10,
   "metadata": {},
   "outputs": [
    {
     "data": {
      "text/html": [
       "<div>\n",
       "<style scoped>\n",
       "    .dataframe tbody tr th:only-of-type {\n",
       "        vertical-align: middle;\n",
       "    }\n",
       "\n",
       "    .dataframe tbody tr th {\n",
       "        vertical-align: top;\n",
       "    }\n",
       "\n",
       "    .dataframe thead th {\n",
       "        text-align: right;\n",
       "    }\n",
       "</style>\n",
       "<table border=\"1\" class=\"dataframe\">\n",
       "  <thead>\n",
       "    <tr style=\"text-align: right;\">\n",
       "      <th></th>\n",
       "      <th>id</th>\n",
       "      <th>tweet</th>\n",
       "    </tr>\n",
       "  </thead>\n",
       "  <tbody>\n",
       "    <tr>\n",
       "      <th>0</th>\n",
       "      <td>1600540896210354176</td>\n",
       "      <td>@RichardMCNgo https://t.co/1B4fnpTldH\\nhttps://t.co/HorzIGI2XW\\nhttps://t.co/dCcAY24Fvl\\nthese domains are for sale！\\n#OpenAI #ChatGPT</td>\n",
       "    </tr>\n",
       "    <tr>\n",
       "      <th>1</th>\n",
       "      <td>1600540813074878464</td>\n",
       "      <td>😅😂🤣💀\\n\\nThis is great. #ChatGPT prompted to have Donald Trump explain #bitcoin: https://t.co/BFYlZZiD4o</td>\n",
       "    </tr>\n",
       "    <tr>\n",
       "      <th>2</th>\n",
       "      <td>1600540657722220544</td>\n",
       "      <td>@ThankYourNiceAI @Miles_Brundage https://t.co/1B4fnpTldH\\nhttps://t.co/HorzIGI2XW\\nhttps://t.co/dCcAY24Fvl\\nthese domains are for sale！\\n#OpenAI #ChatGPT</td>\n",
       "    </tr>\n",
       "    <tr>\n",
       "      <th>3</th>\n",
       "      <td>1600540507910082560</td>\n",
       "      <td>I‘m participating in the #Pisces #AIGC Campaign to win $300 and #Freemint #NFT, thanks to @PiscesBaishui ’s #giveaway! #ChatGPT #OpenAI</td>\n",
       "    </tr>\n",
       "    <tr>\n",
       "      <th>4</th>\n",
       "      <td>1600540463248789504</td>\n",
       "      <td>Thanks to #ChatGPT, it truly feels like we're on the verge of a \"Quartz Crisis\" in tech</td>\n",
       "    </tr>\n",
       "  </tbody>\n",
       "</table>\n",
       "</div>"
      ],
      "text/plain": [
       "                    id  \\\n",
       "0  1600540896210354176   \n",
       "1  1600540813074878464   \n",
       "2  1600540657722220544   \n",
       "3  1600540507910082560   \n",
       "4  1600540463248789504   \n",
       "\n",
       "                                                                                                                                                       tweet  \n",
       "0                     @RichardMCNgo https://t.co/1B4fnpTldH\\nhttps://t.co/HorzIGI2XW\\nhttps://t.co/dCcAY24Fvl\\nthese domains are for sale！\\n#OpenAI #ChatGPT  \n",
       "1                                                    😅😂🤣💀\\n\\nThis is great. #ChatGPT prompted to have Donald Trump explain #bitcoin: https://t.co/BFYlZZiD4o  \n",
       "2  @ThankYourNiceAI @Miles_Brundage https://t.co/1B4fnpTldH\\nhttps://t.co/HorzIGI2XW\\nhttps://t.co/dCcAY24Fvl\\nthese domains are for sale！\\n#OpenAI #ChatGPT  \n",
       "3                    I‘m participating in the #Pisces #AIGC Campaign to win $300 and #Freemint #NFT, thanks to @PiscesBaishui ’s #giveaway! #ChatGPT #OpenAI  \n",
       "4                                                                    Thanks to #ChatGPT, it truly feels like we're on the verge of a \"Quartz Crisis\" in tech  "
      ]
     },
     "execution_count": 10,
     "metadata": {},
     "output_type": "execute_result"
    }
   ],
   "source": [
    "dfs = []\n",
    "for page in pages:\n",
    "    df = pd.read_json(json.dumps(page))\n",
    "    dfs.append(df)\n",
    "data = pd.concat(dfs)\n",
    "\n",
    "# Tally doesn't allow varible names called \"text\"\n",
    "data = data.rename(columns={'text':'tweet'})\n",
    "data.drop('edit_history_tweet_ids', axis=1).head()"
   ]
  },
  {
   "attachments": {},
   "cell_type": "markdown",
   "metadata": {},
   "source": [
    "### Run the sentiment analysis"
   ]
  },
  {
   "cell_type": "code",
   "execution_count": 11,
   "metadata": {},
   "outputs": [],
   "source": [
    "data['sentiment'] = data['tweet'].apply(lambda tweet: analyzer.polarity_scores(tweet)['compound']*100)"
   ]
  },
  {
   "attachments": {},
   "cell_type": "markdown",
   "metadata": {},
   "source": [
    "Our data now has an extra column with the VADER compound score"
   ]
  },
  {
   "cell_type": "code",
   "execution_count": 13,
   "metadata": {},
   "outputs": [
    {
     "data": {
      "text/html": [
       "<div>\n",
       "<style scoped>\n",
       "    .dataframe tbody tr th:only-of-type {\n",
       "        vertical-align: middle;\n",
       "    }\n",
       "\n",
       "    .dataframe tbody tr th {\n",
       "        vertical-align: top;\n",
       "    }\n",
       "\n",
       "    .dataframe thead th {\n",
       "        text-align: right;\n",
       "    }\n",
       "</style>\n",
       "<table border=\"1\" class=\"dataframe\">\n",
       "  <thead>\n",
       "    <tr style=\"text-align: right;\">\n",
       "      <th></th>\n",
       "      <th>edit_history_tweet_ids</th>\n",
       "      <th>id</th>\n",
       "      <th>tweet</th>\n",
       "      <th>sentiment</th>\n",
       "    </tr>\n",
       "  </thead>\n",
       "  <tbody>\n",
       "    <tr>\n",
       "      <th>0</th>\n",
       "      <td>[1600540896210354176]</td>\n",
       "      <td>1600540896210354176</td>\n",
       "      <td>@RichardMCNgo https://t.co/1B4fnpTldH\\nhttps://t.co/HorzIGI2XW\\nhttps://t.co/dCcAY24Fvl\\nthese domains are for sale！\\n#OpenAI #ChatGPT</td>\n",
       "      <td>0.00</td>\n",
       "    </tr>\n",
       "    <tr>\n",
       "      <th>1</th>\n",
       "      <td>[1600540813074878465]</td>\n",
       "      <td>1600540813074878464</td>\n",
       "      <td>😅😂🤣💀\\n\\nThis is great. #ChatGPT prompted to have Donald Trump explain #bitcoin: https://t.co/BFYlZZiD4o</td>\n",
       "      <td>91.36</td>\n",
       "    </tr>\n",
       "    <tr>\n",
       "      <th>2</th>\n",
       "      <td>[1600540657722220550]</td>\n",
       "      <td>1600540657722220544</td>\n",
       "      <td>@ThankYourNiceAI @Miles_Brundage https://t.co/1B4fnpTldH\\nhttps://t.co/HorzIGI2XW\\nhttps://t.co/dCcAY24Fvl\\nthese domains are for sale！\\n#OpenAI #ChatGPT</td>\n",
       "      <td>0.00</td>\n",
       "    </tr>\n",
       "    <tr>\n",
       "      <th>3</th>\n",
       "      <td>[1600540507910082560]</td>\n",
       "      <td>1600540507910082560</td>\n",
       "      <td>I‘m participating in the #Pisces #AIGC Campaign to win $300 and #Freemint #NFT, thanks to @PiscesBaishui ’s #giveaway! #ChatGPT #OpenAI</td>\n",
       "      <td>79.01</td>\n",
       "    </tr>\n",
       "    <tr>\n",
       "      <th>4</th>\n",
       "      <td>[1600540463248789505]</td>\n",
       "      <td>1600540463248789504</td>\n",
       "      <td>Thanks to #ChatGPT, it truly feels like we're on the verge of a \"Quartz Crisis\" in tech</td>\n",
       "      <td>49.39</td>\n",
       "    </tr>\n",
       "  </tbody>\n",
       "</table>\n",
       "</div>"
      ],
      "text/plain": [
       "  edit_history_tweet_ids                   id  \\\n",
       "0  [1600540896210354176]  1600540896210354176   \n",
       "1  [1600540813074878465]  1600540813074878464   \n",
       "2  [1600540657722220550]  1600540657722220544   \n",
       "3  [1600540507910082560]  1600540507910082560   \n",
       "4  [1600540463248789505]  1600540463248789504   \n",
       "\n",
       "                                                                                                                                                       tweet  \\\n",
       "0                     @RichardMCNgo https://t.co/1B4fnpTldH\\nhttps://t.co/HorzIGI2XW\\nhttps://t.co/dCcAY24Fvl\\nthese domains are for sale！\\n#OpenAI #ChatGPT   \n",
       "1                                                    😅😂🤣💀\\n\\nThis is great. #ChatGPT prompted to have Donald Trump explain #bitcoin: https://t.co/BFYlZZiD4o   \n",
       "2  @ThankYourNiceAI @Miles_Brundage https://t.co/1B4fnpTldH\\nhttps://t.co/HorzIGI2XW\\nhttps://t.co/dCcAY24Fvl\\nthese domains are for sale！\\n#OpenAI #ChatGPT   \n",
       "3                    I‘m participating in the #Pisces #AIGC Campaign to win $300 and #Freemint #NFT, thanks to @PiscesBaishui ’s #giveaway! #ChatGPT #OpenAI   \n",
       "4                                                                    Thanks to #ChatGPT, it truly feels like we're on the verge of a \"Quartz Crisis\" in tech   \n",
       "\n",
       "   sentiment  \n",
       "0       0.00  \n",
       "1      91.36  \n",
       "2       0.00  \n",
       "3      79.01  \n",
       "4      49.39  "
      ]
     },
     "execution_count": 13,
     "metadata": {},
     "output_type": "execute_result"
    }
   ],
   "source": [
    "data.head()"
   ]
  },
  {
   "attachments": {},
   "cell_type": "markdown",
   "metadata": {},
   "source": [
    "### Save this date's data as CSV"
   ]
  },
  {
   "cell_type": "code",
   "execution_count": 12,
   "metadata": {},
   "outputs": [],
   "source": [
    "data.to_csv('data/twitter-data/twitter_data-chatgpt-nomedia-{}-plus-one-day.csv'.format(start_time))"
   ]
  },
  {
   "attachments": {},
   "cell_type": "markdown",
   "metadata": {},
   "source": [
    "# Part II: Gather the results from Part I and analyse\n",
    "\n",
    "Once Part I has been run once for every date you need in the dataset, combine the files here to run the calclations and sig-testing"
   ]
  },
  {
   "attachments": {},
   "cell_type": "markdown",
   "metadata": {},
   "source": [
    "### Read the files for different dates\n",
    "\n",
    "We should have one file for each time we ran Part I of the notebook.\n"
   ]
  },
  {
   "cell_type": "code",
   "execution_count": 17,
   "metadata": {},
   "outputs": [],
   "source": [
    "location = ('data/twitter-data/twitter_data-chatgpt-nomedia-2022-',  ':00:00+00:00-plus-one-day.csv')\n",
    "data30nov = pd.read_csv('11-30T18'.join(location))\n",
    "data30nov['date'] = 'Nov 30'\n",
    "data1des = pd.read_csv('12-01T18'.join(location))\n",
    "data1des['date'] = 'Dec 1'\n",
    "data2des = pd.read_csv('12-02T18'.join(location))\n",
    "data2des['date'] = 'Dec 2'\n",
    "data3des = pd.read_csv('12-03T18'.join(location))\n",
    "data3des['date'] = 'Dec 3'\n",
    "data4des = pd.read_csv('12-04T18'.join(location))\n",
    "data4des['date'] = 'Dec 4'\n",
    "data5des = pd.read_csv('12-05T18'.join(location))\n",
    "data5des['date'] = 'Dec 5'\n",
    "data6des = pd.read_csv('12-06T14'.join(location))\n",
    "data6des['date'] = 'Dec 6'\n"
   ]
  },
  {
   "cell_type": "code",
   "execution_count": 18,
   "metadata": {},
   "outputs": [],
   "source": [
    "data = pd.concat([data30nov, data1des, data2des, data3des, data4des, data5des, data6des])"
   ]
  },
  {
   "attachments": {},
   "cell_type": "markdown",
   "metadata": {},
   "source": [
    "### Remove unnecessary columns and save as CSV\n",
    "\n",
    "We don't need the tweet itself anymore, so we drop it and only keep the sentiment score.\n",
    "\n",
    "We then write our results as a CSV, for our survey data crunching tool to import."
   ]
  },
  {
   "cell_type": "code",
   "execution_count": 21,
   "metadata": {},
   "outputs": [
    {
     "data": {
      "text/html": [
       "<div>\n",
       "<style scoped>\n",
       "    .dataframe tbody tr th:only-of-type {\n",
       "        vertical-align: middle;\n",
       "    }\n",
       "\n",
       "    .dataframe tbody tr th {\n",
       "        vertical-align: top;\n",
       "    }\n",
       "\n",
       "    .dataframe thead th {\n",
       "        text-align: right;\n",
       "    }\n",
       "</style>\n",
       "<table border=\"1\" class=\"dataframe\">\n",
       "  <thead>\n",
       "    <tr style=\"text-align: right;\">\n",
       "      <th></th>\n",
       "      <th>Unnamed: 0</th>\n",
       "      <th>id</th>\n",
       "      <th>sentiment</th>\n",
       "      <th>date</th>\n",
       "    </tr>\n",
       "  </thead>\n",
       "  <tbody>\n",
       "    <tr>\n",
       "      <th>0</th>\n",
       "      <td>0</td>\n",
       "      <td>1598332657032536064</td>\n",
       "      <td>0.0</td>\n",
       "      <td>Nov 30</td>\n",
       "    </tr>\n",
       "    <tr>\n",
       "      <th>1</th>\n",
       "      <td>1</td>\n",
       "      <td>1598332343600943104</td>\n",
       "      <td>0.0</td>\n",
       "      <td>Nov 30</td>\n",
       "    </tr>\n",
       "    <tr>\n",
       "      <th>2</th>\n",
       "      <td>2</td>\n",
       "      <td>1598330641594175488</td>\n",
       "      <td>65.0</td>\n",
       "      <td>Nov 30</td>\n",
       "    </tr>\n",
       "    <tr>\n",
       "      <th>3</th>\n",
       "      <td>3</td>\n",
       "      <td>1598330384424390656</td>\n",
       "      <td>-38.0</td>\n",
       "      <td>Nov 30</td>\n",
       "    </tr>\n",
       "    <tr>\n",
       "      <th>4</th>\n",
       "      <td>4</td>\n",
       "      <td>1598329285932191744</td>\n",
       "      <td>0.0</td>\n",
       "      <td>Nov 30</td>\n",
       "    </tr>\n",
       "  </tbody>\n",
       "</table>\n",
       "</div>"
      ],
      "text/plain": [
       "   Unnamed: 0                   id  sentiment    date\n",
       "0           0  1598332657032536064        0.0  Nov 30\n",
       "1           1  1598332343600943104        0.0  Nov 30\n",
       "2           2  1598330641594175488       65.0  Nov 30\n",
       "3           3  1598330384424390656      -38.0  Nov 30\n",
       "4           4  1598329285932191744        0.0  Nov 30"
      ]
     },
     "execution_count": 21,
     "metadata": {},
     "output_type": "execute_result"
    }
   ],
   "source": [
    "data = data.drop(['tweet', 'edit_history_tweet_ids'], axis=1)\n",
    "data['sentiment'] = data['sentiment'].round(0)\n",
    "data.to_csv('data/twitter-data/twitter_chatgpt_30nov_6dec.csv')\n",
    "data.head()"
   ]
  },
  {
   "attachments": {},
   "cell_type": "markdown",
   "metadata": {},
   "source": [
    "### Load our CSV file into our Tally dataset"
   ]
  },
  {
   "cell_type": "code",
   "execution_count": 24,
   "metadata": {},
   "outputs": [],
   "source": [
    "dataset.use_csv('data/twitter-data/twitter_chatgpt_30nov_6dec.csv')"
   ]
  },
  {
   "cell_type": "code",
   "execution_count": 26,
   "metadata": {},
   "outputs": [],
   "source": [
    "meta = json.loads(dataset.qp_meta)\n",
    "mylist = meta['columns']['date']['values']\n",
    "mylist.insert(0, mylist.pop())\n",
    "meta['columns']['date']['values'] = mylist\n",
    "dataset.qp_meta = json.dumps(meta)"
   ]
  },
  {
   "attachments": {},
   "cell_type": "markdown",
   "metadata": {},
   "source": [
    "### Create our new, derived variable\n",
    "\n",
    "We want a new variable where the sentiment is stored as positive, negative and neutral."
   ]
  },
  {
   "cell_type": "code",
   "execution_count": 73,
   "metadata": {},
   "outputs": [],
   "source": [
    "cond_map = [\n",
    "    [1, \"Negative\", {'sentiment':list(range(-100,-5))}],\n",
    "    [2, \"Neutral\", {'sentiment':list(range(-5, 6))}],\n",
    "    [3, \"Positive\", {'sentiment':list(range(6, 100))}]\n",
    "]"
   ]
  },
  {
   "attachments": {},
   "cell_type": "markdown",
   "metadata": {},
   "source": [
    "### Create our crosstabs to run our analysis"
   ]
  },
  {
   "cell_type": "code",
   "execution_count": 75,
   "metadata": {},
   "outputs": [],
   "source": [
    "mean_result = dataset.crosstab(x='sentiment', y='date', ci=[], stats=['mean'], sig_level=[0.05])"
   ]
  },
  {
   "cell_type": "code",
   "execution_count": 79,
   "metadata": {},
   "outputs": [
    {
     "data": {
      "text/html": [
       "<div>\n",
       "<style scoped>\n",
       "    .dataframe tbody tr th:only-of-type {\n",
       "        vertical-align: middle;\n",
       "    }\n",
       "\n",
       "    .dataframe tbody tr th {\n",
       "        vertical-align: top;\n",
       "    }\n",
       "\n",
       "    .dataframe thead tr th {\n",
       "        text-align: left;\n",
       "    }\n",
       "\n",
       "    .dataframe thead tr:last-of-type th {\n",
       "        text-align: right;\n",
       "    }\n",
       "</style>\n",
       "<table border=\"1\" class=\"dataframe\">\n",
       "  <thead>\n",
       "    <tr>\n",
       "      <th></th>\n",
       "      <th>Question</th>\n",
       "      <th colspan=\"7\" halign=\"left\"></th>\n",
       "    </tr>\n",
       "    <tr>\n",
       "      <th></th>\n",
       "      <th>Values</th>\n",
       "      <th>Nov 30</th>\n",
       "      <th>Dec 1</th>\n",
       "      <th>Dec 2</th>\n",
       "      <th>Dec 3</th>\n",
       "      <th>Dec 4</th>\n",
       "      <th>Dec 5</th>\n",
       "      <th>Dec 6</th>\n",
       "    </tr>\n",
       "    <tr>\n",
       "      <th></th>\n",
       "      <th>Test-IDs</th>\n",
       "      <th>A</th>\n",
       "      <th>B</th>\n",
       "      <th>C</th>\n",
       "      <th>D</th>\n",
       "      <th>E</th>\n",
       "      <th>F</th>\n",
       "      <th>G</th>\n",
       "    </tr>\n",
       "    <tr>\n",
       "      <th>Question</th>\n",
       "      <th>Values</th>\n",
       "      <th></th>\n",
       "      <th></th>\n",
       "      <th></th>\n",
       "      <th></th>\n",
       "      <th></th>\n",
       "      <th></th>\n",
       "      <th></th>\n",
       "    </tr>\n",
       "  </thead>\n",
       "  <tbody>\n",
       "    <tr>\n",
       "      <th rowspan=\"3\" valign=\"top\"></th>\n",
       "      <th>Base</th>\n",
       "      <td>301.0</td>\n",
       "      <td>942.0</td>\n",
       "      <td>1321.0</td>\n",
       "      <td>1570.0</td>\n",
       "      <td>3054.0</td>\n",
       "      <td>3557.0</td>\n",
       "      <td>3137.0</td>\n",
       "    </tr>\n",
       "    <tr>\n",
       "      <th>Mean</th>\n",
       "      <td>31.61794</td>\n",
       "      <td>26.3</td>\n",
       "      <td>26.7</td>\n",
       "      <td>25.6</td>\n",
       "      <td>25.8</td>\n",
       "      <td>25.9</td>\n",
       "      <td>26.8</td>\n",
       "    </tr>\n",
       "    <tr>\n",
       "      <th>0.05</th>\n",
       "      <td>D.E.F</td>\n",
       "      <td></td>\n",
       "      <td></td>\n",
       "      <td></td>\n",
       "      <td></td>\n",
       "      <td></td>\n",
       "      <td></td>\n",
       "    </tr>\n",
       "  </tbody>\n",
       "</table>\n",
       "</div>"
      ],
      "text/plain": [
       "Question                                                                \n",
       "Values             Nov 30  Dec 1   Dec 2   Dec 3   Dec 4   Dec 5   Dec 6\n",
       "Test-IDs                A      B       C       D       E       F       G\n",
       "Question Values                                                         \n",
       "         Base       301.0  942.0  1321.0  1570.0  3054.0  3557.0  3137.0\n",
       "         Mean    31.61794   26.3    26.7    25.6    25.8    25.9    26.8\n",
       "         0.05       D.E.F                                               "
      ]
     },
     "execution_count": 79,
     "metadata": {},
     "output_type": "execute_result"
    }
   ],
   "source": [
    "mean_result.replace('null', '')"
   ]
  },
  {
   "cell_type": "code",
   "execution_count": 77,
   "metadata": {},
   "outputs": [],
   "source": [
    "dataset.derive(name='positive_negative', label=\"Positive or negative\", cond_maps=cond_map, qtype='single')"
   ]
  },
  {
   "cell_type": "code",
   "execution_count": 88,
   "metadata": {},
   "outputs": [],
   "source": [
    "result = dataset.crosstab(x='positive_negative', y='date', ci=['c%'], sig_level=[0.05], decimals=0)"
   ]
  },
  {
   "cell_type": "code",
   "execution_count": 89,
   "metadata": {},
   "outputs": [
    {
     "data": {
      "text/html": [
       "<div>\n",
       "<style scoped>\n",
       "    .dataframe tbody tr th:only-of-type {\n",
       "        vertical-align: middle;\n",
       "    }\n",
       "\n",
       "    .dataframe tbody tr th {\n",
       "        vertical-align: top;\n",
       "    }\n",
       "\n",
       "    .dataframe thead tr th {\n",
       "        text-align: left;\n",
       "    }\n",
       "\n",
       "    .dataframe thead tr:last-of-type th {\n",
       "        text-align: right;\n",
       "    }\n",
       "</style>\n",
       "<table border=\"1\" class=\"dataframe\">\n",
       "  <thead>\n",
       "    <tr>\n",
       "      <th></th>\n",
       "      <th>Question</th>\n",
       "      <th colspan=\"7\" halign=\"left\"></th>\n",
       "    </tr>\n",
       "    <tr>\n",
       "      <th></th>\n",
       "      <th>Values</th>\n",
       "      <th>Nov 30</th>\n",
       "      <th>Dec 1</th>\n",
       "      <th>Dec 2</th>\n",
       "      <th>Dec 3</th>\n",
       "      <th>Dec 4</th>\n",
       "      <th>Dec 5</th>\n",
       "      <th>Dec 6</th>\n",
       "    </tr>\n",
       "    <tr>\n",
       "      <th></th>\n",
       "      <th>Test-IDs</th>\n",
       "      <th>A</th>\n",
       "      <th>B</th>\n",
       "      <th>C</th>\n",
       "      <th>D</th>\n",
       "      <th>E</th>\n",
       "      <th>F</th>\n",
       "      <th>G</th>\n",
       "    </tr>\n",
       "    <tr>\n",
       "      <th>Question</th>\n",
       "      <th>Values</th>\n",
       "      <th></th>\n",
       "      <th></th>\n",
       "      <th></th>\n",
       "      <th></th>\n",
       "      <th></th>\n",
       "      <th></th>\n",
       "      <th></th>\n",
       "    </tr>\n",
       "  </thead>\n",
       "  <tbody>\n",
       "    <tr>\n",
       "      <th rowspan=\"7\" valign=\"top\">Positive or negative</th>\n",
       "      <th>Base</th>\n",
       "      <td>301.0</td>\n",
       "      <td>942.0</td>\n",
       "      <td>1321.0</td>\n",
       "      <td>1570.0</td>\n",
       "      <td>3054.0</td>\n",
       "      <td>3557.0</td>\n",
       "      <td>3137.0</td>\n",
       "    </tr>\n",
       "    <tr>\n",
       "      <th>Negative</th>\n",
       "      <td>11.0</td>\n",
       "      <td>16.0</td>\n",
       "      <td>17.0</td>\n",
       "      <td>17.0</td>\n",
       "      <td>16.0</td>\n",
       "      <td>17.0</td>\n",
       "      <td>15.0</td>\n",
       "    </tr>\n",
       "    <tr>\n",
       "      <th>0.05</th>\n",
       "      <td></td>\n",
       "      <td>A</td>\n",
       "      <td>A</td>\n",
       "      <td>A</td>\n",
       "      <td>A</td>\n",
       "      <td>A</td>\n",
       "      <td>A</td>\n",
       "    </tr>\n",
       "    <tr>\n",
       "      <th>Neutral</th>\n",
       "      <td>29.0</td>\n",
       "      <td>25.0</td>\n",
       "      <td>23.0</td>\n",
       "      <td>25.0</td>\n",
       "      <td>26.0</td>\n",
       "      <td>26.0</td>\n",
       "      <td>25.0</td>\n",
       "    </tr>\n",
       "    <tr>\n",
       "      <th>0.05</th>\n",
       "      <td>C</td>\n",
       "      <td></td>\n",
       "      <td></td>\n",
       "      <td></td>\n",
       "      <td></td>\n",
       "      <td>C</td>\n",
       "      <td></td>\n",
       "    </tr>\n",
       "    <tr>\n",
       "      <th>Positive</th>\n",
       "      <td>60.0</td>\n",
       "      <td>59.0</td>\n",
       "      <td>60.0</td>\n",
       "      <td>58.0</td>\n",
       "      <td>58.0</td>\n",
       "      <td>57.0</td>\n",
       "      <td>59.0</td>\n",
       "    </tr>\n",
       "    <tr>\n",
       "      <th>0.05</th>\n",
       "      <td></td>\n",
       "      <td></td>\n",
       "      <td></td>\n",
       "      <td></td>\n",
       "      <td></td>\n",
       "      <td></td>\n",
       "      <td></td>\n",
       "    </tr>\n",
       "  </tbody>\n",
       "</table>\n",
       "</div>"
      ],
      "text/plain": [
       "Question                                                                     \\\n",
       "Values                        Nov 30  Dec 1   Dec 2   Dec 3   Dec 4   Dec 5   \n",
       "Test-IDs                           A      B       C       D       E       F   \n",
       "Question             Values                                                   \n",
       "Positive or negative Base      301.0  942.0  1321.0  1570.0  3054.0  3557.0   \n",
       "                     Negative   11.0   16.0    17.0    17.0    16.0    17.0   \n",
       "                     0.05                 A       A       A       A       A   \n",
       "                     Neutral    29.0   25.0    23.0    25.0    26.0    26.0   \n",
       "                     0.05          C                                      C   \n",
       "                     Positive   60.0   59.0    60.0    58.0    58.0    57.0   \n",
       "                     0.05                                                     \n",
       "\n",
       "Question                               \n",
       "Values                          Dec 6  \n",
       "Test-IDs                            G  \n",
       "Question             Values            \n",
       "Positive or negative Base      3137.0  \n",
       "                     Negative    15.0  \n",
       "                     0.05           A  \n",
       "                     Neutral     25.0  \n",
       "                     0.05              \n",
       "                     Positive    59.0  \n",
       "                     0.05              "
      ]
     },
     "execution_count": 89,
     "metadata": {},
     "output_type": "execute_result"
    }
   ],
   "source": [
    "result.replace('null', '')"
   ]
  },
  {
   "cell_type": "code",
   "execution_count": null,
   "metadata": {},
   "outputs": [],
   "source": []
  }
 ],
 "metadata": {
  "kernelspec": {
   "display_name": "Python 3.10.4 64-bit",
   "language": "python",
   "name": "python3"
  },
  "language_info": {
   "codemirror_mode": {
    "name": "ipython",
    "version": 3
   },
   "file_extension": ".py",
   "mimetype": "text/x-python",
   "name": "python",
   "nbconvert_exporter": "python",
   "pygments_lexer": "ipython3",
   "version": "3.10.4"
  },
  "orig_nbformat": 4,
  "vscode": {
   "interpreter": {
    "hash": "3ad933181bd8a04b432d3370b9dc3b0662ad032c4dfaa4e4f1596c548f763858"
   }
  }
 },
 "nbformat": 4,
 "nbformat_minor": 2
}
