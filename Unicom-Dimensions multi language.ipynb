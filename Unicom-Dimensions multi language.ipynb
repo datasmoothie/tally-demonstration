{
 "cells": [
  {
   "cell_type": "code",
   "execution_count": 22,
   "metadata": {},
   "outputs": [],
   "source": [
    "import tally\n",
    "import os"
   ]
  },
  {
   "cell_type": "markdown",
   "metadata": {},
   "source": [
    "We store our API keys as private environment variables."
   ]
  },
  {
   "cell_type": "code",
   "execution_count": 23,
   "metadata": {},
   "outputs": [],
   "source": [
    "keys = {\n",
    "    'tally': os.environ.get('tally_api_key')\n",
    "}\n"
   ]
  },
  {
   "cell_type": "markdown",
   "metadata": {},
   "source": [
    "Tell Tally to use the Unicom/Dimensions data. It will get uploaded to Tally and converted to CSV and JSON."
   ]
  },
  {
   "cell_type": "code",
   "execution_count": 24,
   "metadata": {},
   "outputs": [],
   "source": [
    "dataset = tally.DataSet(api_key=keys['tally'])\n",
    "dataset.use_unicom('data/Example_Museum.mdd', 'data/Example_Museum.ddf')"
   ]
  },
  {
   "cell_type": "markdown",
   "metadata": {},
   "source": [
    "We can examine the meta data of a variable with the `meta` function."
   ]
  },
  {
   "cell_type": "code",
   "execution_count": 26,
   "metadata": {},
   "outputs": [
    {
     "data": {
      "text/html": [
       "<div>\n",
       "<style scoped>\n",
       "    .dataframe tbody tr th:only-of-type {\n",
       "        vertical-align: middle;\n",
       "    }\n",
       "\n",
       "    .dataframe tbody tr th {\n",
       "        vertical-align: top;\n",
       "    }\n",
       "\n",
       "    .dataframe thead th {\n",
       "        text-align: right;\n",
       "    }\n",
       "</style>\n",
       "<table border=\"1\" class=\"dataframe\">\n",
       "  <thead>\n",
       "    <tr style=\"text-align: right;\">\n",
       "      <th></th>\n",
       "      <th>codes</th>\n",
       "      <th>texts</th>\n",
       "      <th>missing</th>\n",
       "    </tr>\n",
       "  </thead>\n",
       "  <tbody>\n",
       "    <tr>\n",
       "      <th>1</th>\n",
       "      <td>1</td>\n",
       "      <td>Longer</td>\n",
       "      <td>None</td>\n",
       "    </tr>\n",
       "    <tr>\n",
       "      <th>2</th>\n",
       "      <td>2</td>\n",
       "      <td>Shorter</td>\n",
       "      <td>None</td>\n",
       "    </tr>\n",
       "    <tr>\n",
       "      <th>3</th>\n",
       "      <td>3</td>\n",
       "      <td>Hadn't planned a particular length of time</td>\n",
       "      <td>None</td>\n",
       "    </tr>\n",
       "    <tr>\n",
       "      <th>4</th>\n",
       "      <td>4</td>\n",
       "      <td>About what I'd planned</td>\n",
       "      <td>None</td>\n",
       "    </tr>\n",
       "    <tr>\n",
       "      <th>5</th>\n",
       "      <td>5</td>\n",
       "      <td>Not answered</td>\n",
       "      <td>None</td>\n",
       "    </tr>\n",
       "  </tbody>\n",
       "</table>\n",
       "</div>"
      ],
      "text/plain": [
       "   codes                                       texts missing\n",
       "1      1                                      Longer    None\n",
       "2      2                                     Shorter    None\n",
       "3      3  Hadn't planned a particular length of time    None\n",
       "4      4                      About what I'd planned    None\n",
       "5      5                                Not answered    None"
      ]
     },
     "execution_count": 26,
     "metadata": {},
     "output_type": "execute_result"
    }
   ],
   "source": [
    "dataset.meta(variable='long_short')"
   ]
  },
  {
   "cell_type": "markdown",
   "metadata": {},
   "source": [
    "# Deciding what variables to use\n",
    "We examine the available variables with dataset.variables() and from there, we copy paste the variables we want in our slide show."
   ]
  },
  {
   "cell_type": "code",
   "execution_count": 27,
   "metadata": {},
   "outputs": [],
   "source": [
    "questions = [ 'before', 'biology', 'expect', 'gen_ent', 'oth_mus', 'plan','prefer', 'signs', 'similar',\n",
    " 'entrance', 'time_spent', 'desc_leave', 'when_decid',  'interest', 'long_short', 'distance'\n",
    "]\n",
    "crosstabs = [\n",
    " 'gender', 'education', 'age', 'who_with', 'grp_type', 'group_org', 'resident'\n",
    " ]\n"
   ]
  },
  {
   "cell_type": "markdown",
   "metadata": {},
   "source": [
    "# Build outputs\n",
    "We can build Powerpoint decks with a single line of code. We could also loop through a category and create one PowerPoint for every category (age groups, gender,etc). Here, the '@' character means that we want the first slides to show totals, not just crosstabs."
   ]
  },
  {
   "cell_type": "code",
   "execution_count": 28,
   "metadata": {},
   "outputs": [],
   "source": [
    "languages = ['es-ES', 'en-Gb', 'ja-JP']\n",
    "codes = dataset.meta(variable='long_short')['codes'].values\n",
    "texts = dataset.meta(variable='long_short')['texts'].values\n",
    "for lang in languages:\n",
    "    for index, code in enumerate(codes):\n",
    "        dataset.build_powerpoint(filename='powerpoint_output/museum-{}-{}.pptx'.format(lang, texts[index]), \n",
    "                            powerpoint_template='pptx_templates/Datasmoothie_Template.pptx',\n",
    "                            x=questions,\n",
    "                            text_key=lang,\n",
    "                            y=['@'] + crosstabs,\n",
    "                            f={'long_short':[int(code)]}\n",
    "                            )"
   ]
  },
  {
   "cell_type": "code",
   "execution_count": null,
   "metadata": {},
   "outputs": [],
   "source": []
  }
 ],
 "metadata": {
  "kernelspec": {
   "display_name": "Python 3.8.13 64-bit ('3.8.13')",
   "language": "python",
   "name": "python3"
  },
  "language_info": {
   "codemirror_mode": {
    "name": "ipython",
    "version": 3
   },
   "file_extension": ".py",
   "mimetype": "text/x-python",
   "name": "python",
   "nbconvert_exporter": "python",
   "pygments_lexer": "ipython3",
   "version": "3.8.13"
  },
  "orig_nbformat": 4,
  "vscode": {
   "interpreter": {
    "hash": "110cc1dee26208153f2972f08a2ad52b6a56238dc66d48e87fb757ef2996db56"
   }
  }
 },
 "nbformat": 4,
 "nbformat_minor": 2
}
