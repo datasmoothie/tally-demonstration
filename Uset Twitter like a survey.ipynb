{
 "cells": [
  {
   "cell_type": "code",
   "execution_count": 1,
   "metadata": {},
   "outputs": [],
   "source": [
    "!pip install datasmoothie-tally-client -q\n",
    "!pip install vaderSentiment -q"
   ]
  },
  {
   "cell_type": "code",
   "execution_count": 2,
   "metadata": {},
   "outputs": [],
   "source": [
    "import tally\n",
    "import os\n",
    "import requests\n",
    "import re\n",
    "from vaderSentiment.vaderSentiment import SentimentIntensityAnalyzer\n",
    "import json\n",
    "import time\n",
    "import pandas as pd\n",
    "pd.set_option('display.max_colwidth', None)\n",
    "import datetime\n"
   ]
  },
  {
   "cell_type": "markdown",
   "metadata": {},
   "source": [
    "## Create the Tally dataset object and get the required tokens "
   ]
  },
  {
   "cell_type": "code",
   "execution_count": 3,
   "metadata": {},
   "outputs": [],
   "source": [
    "# we store the tally key in an environment variable, get in touch to get your own key\n",
    "dataset = tally.DataSet(api_key=os.environ.get('TALLY_API_KEY'))\n",
    "\n",
    "# our twitter API access token\n",
    "bearer_token = os.environ.get('TWITTER_BEARER_TOKEN')\n",
    "\n",
    "headers = {\"Authorization\": \"Bearer {}\".format(bearer_token),\"Content-Type\": \"application/json\"}\n",
    "search_api_path = 'https://api.twitter.com/2/tweets/search/recent'"
   ]
  },
  {
   "cell_type": "markdown",
   "metadata": {},
   "source": [
    "## Set the dates requested so that Twitter fetches results from a specific interval"
   ]
  },
  {
   "cell_type": "code",
   "execution_count": 4,
   "metadata": {},
   "outputs": [
    {
     "data": {
      "text/plain": [
       "('2022-11-06T18:00:00+00:00', '2022-11-07T18:00:00+00:00')"
      ]
     },
     "execution_count": 4,
     "metadata": {},
     "output_type": "execute_result"
    }
   ],
   "source": [
    "required_date = datetime.datetime(2022, 11, 6, 18)\n",
    "day_after = required_date.astimezone(datetime.timezone.utc) + datetime.timedelta(1)\n",
    "start_time = required_date.astimezone(datetime.timezone.utc).isoformat()\n",
    "end_time = day_after.isoformat()\n",
    "(start_time, end_time)"
   ]
  },
  {
   "cell_type": "markdown",
   "metadata": {},
   "source": [
    "## Create a loop so we can fetch and clean Twitter data - we only get 100 results per request"
   ]
  },
  {
   "cell_type": "code",
   "execution_count": 5,
   "metadata": {},
   "outputs": [],
   "source": [
    "analyzer = SentimentIntensityAnalyzer()\n",
    "\n",
    "def run_twitter_search(search_term):\n",
    "    search_params = {\n",
    "        'query':'{} lang:en'.format(search_term), \n",
    "        'max_results':100, \n",
    "        'start_time':start_time,\n",
    "        'end_time':end_time\n",
    "    }\n",
    "    search_result = requests.get(search_api_path,search_params,headers=headers)\n",
    "    result_json = json.loads(search_result.content)\n",
    "\n",
    "    result_pages = []\n",
    "    if 'meta' not in result_json:\n",
    "        print(result_json.keys())\n",
    "        print(result_json)\n",
    "    next_token = result_json['meta']['next_token']\n",
    "    for i in range(0,15):\n",
    "        time.sleep(0.5)\n",
    "        next_page = requests.get(\n",
    "            search_api_path,{\n",
    "                'query':'{} lang:en'.format(search_term), \n",
    "                'max_results':100,\n",
    "                'start_time':start_time,\n",
    "                'end_time': end_time,\n",
    "                'next_token':next_token},\n",
    "            headers=headers)\n",
    "        page_json = json.loads(next_page.content)\n",
    "        result_pages.append(page_json['data'])\n",
    "        next_token = page_json['meta']['next_token']\n",
    "    \n",
    "    data = [] \n",
    "    tweet_id = []\n",
    "    for page in result_pages:\n",
    "        data = data + [j['text'] for j in page]\n",
    "        tweet_id = tweet_id + [j['id'] for j in page]\n",
    "\n",
    "    data = [i.replace(\"RT\",\"\").strip() for i in data]\n",
    "    data = [i.replace(\"\",\" \").strip() for i in data]\n",
    "    data = [re.sub('\\B@\\w+', \"\", i).replace(\":\", \"\").strip() for i in data]\n",
    "\n",
    "    sentiment = [analyzer.polarity_scores(d)['compound']*100 for d in data]\n",
    "    s = pd.Series(data=sentiment, name='sentiment').round(0)\n",
    "    tweet_id = pd.Series(data=tweet_id, name='tweet_id')\n",
    "    text = pd.Series(data=data, name='tweet')\n",
    "    term = pd.Series(data=[search_term]*len(data), name='search term')\n",
    "    df = pd.concat([term, tweet_id, s, text], axis=1)\n",
    "    return df\n"
   ]
  },
  {
   "cell_type": "markdown",
   "metadata": {},
   "source": [
    "## Fetch twitter results for our three search terms"
   ]
  },
  {
   "cell_type": "code",
   "execution_count": 13,
   "metadata": {},
   "outputs": [],
   "source": [
    "first_data = run_twitter_search(\"rishi sunak\")\n",
    "second_data = run_twitter_search(\"keir starmer\")\n",
    "third_data = run_twitter_search(\"matt hancock\")\n"
   ]
  },
  {
   "cell_type": "code",
   "execution_count": null,
   "metadata": {},
   "outputs": [],
   "source": [
    "data = pd.concat([first_data, second_data, third_data])"
   ]
  },
  {
   "cell_type": "markdown",
   "metadata": {},
   "source": [
    "## Save data as CSV and load the CSV file into Tally"
   ]
  },
  {
   "cell_type": "code",
   "execution_count": null,
   "metadata": {},
   "outputs": [],
   "source": [
    "data.to_csv('data/twitter-data/twitter_data-{}-plus-one-day.csv'.format(start_time))"
   ]
  },
  {
   "cell_type": "code",
   "execution_count": null,
   "metadata": {},
   "outputs": [],
   "source": [
    "dataset.use_csv('data/twitter-data/twitter_data-{}-plus-one-day.csv'.format(start_time))"
   ]
  },
  {
   "cell_type": "markdown",
   "metadata": {},
   "source": [
    "## Examples of how VADER works"
   ]
  },
  {
   "cell_type": "code",
   "execution_count": 14,
   "metadata": {},
   "outputs": [
    {
     "name": "stdout",
     "output_type": "stream",
     "text": [
      "{'neg': 0.0, 'neu': 0.41, 'pos': 0.59, 'compound': 0.802}\n"
     ]
    }
   ],
   "source": [
    "print(analyzer.polarity_scores(\"I love Geir because he is clever.\"))"
   ]
  },
  {
   "cell_type": "code",
   "execution_count": 15,
   "metadata": {},
   "outputs": [
    {
     "name": "stdout",
     "output_type": "stream",
     "text": [
      "{'neg': 0.219, 'neu': 0.781, 'pos': 0.0, 'compound': -0.1027}\n"
     ]
    }
   ],
   "source": [
    "print(analyzer.polarity_scores(\"Geir is getting on my nerves.\"))"
   ]
  },
  {
   "cell_type": "code",
   "execution_count": 16,
   "metadata": {},
   "outputs": [
    {
     "name": "stdout",
     "output_type": "stream",
     "text": [
      "{'neg': 0.0, 'neu': 1.0, 'pos': 0.0, 'compound': 0.0}\n"
     ]
    }
   ],
   "source": [
    "print(analyzer.polarity_scores(\"Geir is the author of this post.\"))"
   ]
  },
  {
   "cell_type": "markdown",
   "metadata": {},
   "source": [
    "## Create our new, derived variable"
   ]
  },
  {
   "cell_type": "code",
   "execution_count": 51,
   "metadata": {},
   "outputs": [],
   "source": [
    "cond_map = [\n",
    "    [1, \"Negative\", {'sentiment':list(range(-100,-5))}],\n",
    "    [2, \"Neutral\", {'sentiment':list(range(-5, 6))}],\n",
    "    [3, \"Positive\", {'sentiment':list(range(6, 100))}]\n",
    "]"
   ]
  },
  {
   "cell_type": "markdown",
   "metadata": {},
   "source": [
    "## Create our crosstabs to run our analysis"
   ]
  },
  {
   "cell_type": "code",
   "execution_count": 23,
   "metadata": {},
   "outputs": [
    {
     "data": {
      "text/html": [
       "<div>\n",
       "<style scoped>\n",
       "    .dataframe tbody tr th:only-of-type {\n",
       "        vertical-align: middle;\n",
       "    }\n",
       "\n",
       "    .dataframe tbody tr th {\n",
       "        vertical-align: top;\n",
       "    }\n",
       "\n",
       "    .dataframe thead tr th {\n",
       "        text-align: left;\n",
       "    }\n",
       "\n",
       "    .dataframe thead tr:last-of-type th {\n",
       "        text-align: right;\n",
       "    }\n",
       "</style>\n",
       "<table border=\"1\" class=\"dataframe\">\n",
       "  <thead>\n",
       "    <tr>\n",
       "      <th></th>\n",
       "      <th>Question</th>\n",
       "      <th colspan=\"3\" halign=\"left\"></th>\n",
       "    </tr>\n",
       "    <tr>\n",
       "      <th></th>\n",
       "      <th>Values</th>\n",
       "      <th>keir starmer</th>\n",
       "      <th>matt hancock</th>\n",
       "      <th>rishi sunak</th>\n",
       "    </tr>\n",
       "    <tr>\n",
       "      <th></th>\n",
       "      <th>Test-IDs</th>\n",
       "      <th>A</th>\n",
       "      <th>B</th>\n",
       "      <th>C</th>\n",
       "    </tr>\n",
       "    <tr>\n",
       "      <th>Question</th>\n",
       "      <th>Values</th>\n",
       "      <th></th>\n",
       "      <th></th>\n",
       "      <th></th>\n",
       "    </tr>\n",
       "  </thead>\n",
       "  <tbody>\n",
       "    <tr>\n",
       "      <th rowspan=\"3\" valign=\"top\"></th>\n",
       "      <th>Base</th>\n",
       "      <td>496.0</td>\n",
       "      <td>499.0</td>\n",
       "      <td>496.0</td>\n",
       "    </tr>\n",
       "    <tr>\n",
       "      <th>Mean</th>\n",
       "      <td>-4.939516</td>\n",
       "      <td>-5.132265</td>\n",
       "      <td>-12.4</td>\n",
       "    </tr>\n",
       "    <tr>\n",
       "      <th>0.05</th>\n",
       "      <td>C</td>\n",
       "      <td>C</td>\n",
       "      <td>null</td>\n",
       "    </tr>\n",
       "  </tbody>\n",
       "</table>\n",
       "</div>"
      ],
      "text/plain": [
       "Question                                             \n",
       "Values          keir starmer matt hancock rishi sunak\n",
       "Test-IDs                   A            B           C\n",
       "Question Values                                      \n",
       "         Base          496.0        499.0       496.0\n",
       "         Mean      -4.939516    -5.132265       -12.4\n",
       "         0.05              C            C        null"
      ]
     },
     "execution_count": 23,
     "metadata": {},
     "output_type": "execute_result"
    }
   ],
   "source": [
    "dataset.crosstab(x='sentiment', y='search term', ci=[], stats=['mean'], sig_level=[0.05])"
   ]
  },
  {
   "cell_type": "code",
   "execution_count": 58,
   "metadata": {},
   "outputs": [],
   "source": [
    "dataset.set_variable_text(name='search term', new_text='Search term')"
   ]
  },
  {
   "cell_type": "code",
   "execution_count": 52,
   "metadata": {},
   "outputs": [],
   "source": [
    "dataset.derive(name='positive_negaive', label=\"Positive or negative\", cond_maps=cond_map, qtype='single')"
   ]
  },
  {
   "cell_type": "code",
   "execution_count": 61,
   "metadata": {},
   "outputs": [],
   "source": [
    "result = dataset.crosstab(x='positive_negaive', y='search term', ci=['c%'], stats=['mean'], sig_level=[])"
   ]
  },
  {
   "cell_type": "markdown",
   "metadata": {},
   "source": [
    "<table border=\"1\" class=\"dataframe\">  <thead>    <tr>      <th></th>      <th>Question</th>      <th colspan=\"3\" halign=\"left\">Search term</th>    </tr>    <tr>      <th></th>      <th>Values</th>      <th>keir starmer</th>      <th>matt hancock</th>      <th>rishi sunak</th>    </tr>    <tr>      <th></th>      <th>Test-IDs</th>      <th>A</th>      <th>B</th>      <th>C</th>    </tr>    <tr>      <th>Question</th>      <th>Values</th>      <th></th>      <th></th>      <th></th>    </tr>  </thead>  <tbody>    <tr>      <th rowspan=\"9\" valign=\"top\">Positive or negative</th>      <th>Base</th>      <td>496.0</td>      <td>499.0</td>      <td>496.0</td>    </tr>    <tr>      <th>Negative</th>      <td>38.508065</td>      <td>38.076152</td>      <td>56.25</td>    </tr>    <tr>      <th></th>      <td></td>      <td></td>      <td>A.B</td>    </tr>    <tr>      <th>Neutral</th>      <td>26.612903</td>      <td>40.280561</td>      <td>14.717742</td>    </tr>    <tr>      <th></th>      <td>C</td>      <td>A.C</td>      <td></td>    </tr>    <tr>      <th>Positive</th>      <td>34.879032</td>      <td>21.643287</td>      <td>29.032258</td>    </tr>    <tr>      <th></th>      <td>B.C</td>      <td></td>      <td>B</td>    </tr>    <tr>      <th>Mean</th>      <td>1.96371</td>      <td>1.835671</td>      <td>1.727823</td>    </tr>    <tr>      <th></th>      <td>B.C</td>      <td>C</td>      <td></td>    </tr>  </tbody></table>"
   ]
  },
  {
   "cell_type": "code",
   "execution_count": null,
   "metadata": {},
   "outputs": [],
   "source": []
  }
 ],
 "metadata": {
  "kernelspec": {
   "display_name": "Python 3.10.4 64-bit",
   "language": "python",
   "name": "python3"
  },
  "language_info": {
   "codemirror_mode": {
    "name": "ipython",
    "version": 3
   },
   "file_extension": ".py",
   "mimetype": "text/x-python",
   "name": "python",
   "nbconvert_exporter": "python",
   "pygments_lexer": "ipython3",
   "version": "3.10.4"
  },
  "orig_nbformat": 4,
  "vscode": {
   "interpreter": {
    "hash": "3ad933181bd8a04b432d3370b9dc3b0662ad032c4dfaa4e4f1596c548f763858"
   }
  }
 },
 "nbformat": 4,
 "nbformat_minor": 2
}
