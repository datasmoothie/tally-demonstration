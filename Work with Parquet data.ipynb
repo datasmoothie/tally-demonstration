{
 "cells": [
  {
   "cell_type": "markdown",
   "metadata": {},
   "source": [
    "# Example of working with Parquet data files\n",
    "\n",
    "To get started:\n",
    "\n",
    "1. Upload your Parquet file and CSV meta data file to the `data` folder. (Here they are called Tabulation_Test_Project.csv and Tabulation_Test_Project.csv)\n",
    "1. Paste your Tally API key into the cell with the variable `tally_api_key`\n"
   ]
  },
  {
   "cell_type": "code",
   "execution_count": 1,
   "metadata": {},
   "outputs": [],
   "source": [
    "import tally"
   ]
  },
  {
   "cell_type": "code",
   "execution_count": 2,
   "metadata": {},
   "outputs": [],
   "source": [
    "# insert your tally API key here, replace os.environ.get\n",
    "tally_api_key = # insert your key here\n"
   ]
  },
  {
   "cell_type": "code",
   "execution_count": 3,
   "metadata": {},
   "outputs": [],
   "source": [
    "dataset = tally.DataSet(api_key=tally_api_key)\n",
    "dataset.use_parquet('data/Tabulation_Test_Project.pq', 'data/Tabulation_Test_Project.csv')"
   ]
  },
  {
   "cell_type": "code",
   "execution_count": 53,
   "metadata": {},
   "outputs": [],
   "source": [
    "# use the crosstab method to run calculations (always pass the parameter name, i.e. x='q2')\n",
    "dataset.crosstab(x='q2')"
   ]
  },
  {
   "cell_type": "code",
   "execution_count": 54,
   "metadata": {},
   "outputs": [],
   "source": [
    "# use the ci parameter to choose whether to show counts or percentages\n",
    "dataset.crosstab(x='q2', ci=['counts'])"
   ]
  },
  {
   "cell_type": "code",
   "execution_count": 55,
   "metadata": {},
   "outputs": [],
   "source": [
    "# other parameters include\n",
    "# y - the banner variable \n",
    "# w - weight variable \n",
    "# sig_level - the alpha number to use for sig-testing\n",
    "# base - what bases to show\n",
    "dataset.crosstab(x='q7', y='q2', w='weightings.q4_2020', ci=['c%', 'counts'], sig_level=[0.05], base='both')"
   ]
  },
  {
   "cell_type": "markdown",
   "metadata": {},
   "source": [
    "## Create nets or new varialbes with the derive method"
   ]
  },
  {
   "cell_type": "code",
   "execution_count": 56,
   "metadata": {},
   "outputs": [],
   "source": [
    "# we start by looking at variable q14 and deciding we need a top/bottom 2 net\n",
    "dataset.crosstab(x='q14')"
   ]
  },
  {
   "cell_type": "code",
   "execution_count": 57,
   "metadata": {},
   "outputs": [],
   "source": [
    "# We create the NET by supplying a condition map, where we send the codes for the answers we want to combine\n",
    "cond_map = [\n",
    "        (1, \"NET: Less bottom 2\", {'q14':[1,2]}),\n",
    "        (2, \"Neutral\", {'q14':[3]}),\n",
    "        (3, \"Net: More top 2\", {'q14':[4,5]})\n",
    "    ]\n",
    "result = dataset.derive(name='q14_net', label='NET: More or less likely?', cond_map=cond_map, qtype=\"single\")\n",
    "dataset.crosstab(x='q14_net')"
   ]
  },
  {
   "cell_type": "markdown",
   "metadata": {},
   "source": [
    "### Build powerpoint presentations\n",
    "\n",
    "This cell will generate a file in the root folder called my_powerpoint.pptx"
   ]
  },
  {
   "cell_type": "code",
   "execution_count": 49,
   "metadata": {},
   "outputs": [
    {
     "data": {
      "text/plain": [
       "<Response [200]>"
      ]
     },
     "execution_count": 49,
     "metadata": {},
     "output_type": "execute_result"
    }
   ],
   "source": [
    "dataset.build_powerpoint(filename='my_powerpoint.pptx', \n",
    "                         powerpoint_template='pptx_templates/Datasmoothie_Template.pptx',\n",
    "                         x=['q8', 'q14_net'],\n",
    "                         y=['q2', 'q7'])"
   ]
  },
  {
   "cell_type": "markdown",
   "metadata": {},
   "source": [
    "### Build Excel tables\n",
    "\n",
    "This cell will generate a file in the root folder called my_excel.xlsx"
   ]
  },
  {
   "cell_type": "code",
   "execution_count": 52,
   "metadata": {},
   "outputs": [
    {
     "data": {
      "text/plain": [
       "<Response [200]>"
      ]
     },
     "execution_count": 52,
     "metadata": {},
     "output_type": "execute_result"
    }
   ],
   "source": [
    "dataset.build_excel(filename='my_excel.xlsx', \n",
    "                         x=['q8', 'q14_net'],\n",
    "                         y=['q2', 'q7'])"
   ]
  },
  {
   "cell_type": "code",
   "execution_count": null,
   "metadata": {},
   "outputs": [],
   "source": []
  }
 ],
 "metadata": {
  "interpreter": {
   "hash": "8b8334dab9339717f727a1deaf837b322d7a41c20d15cc86be99a8e69ceec8ce"
  },
  "kernelspec": {
   "display_name": "Python 3.8.12 64-bit ('3.8.12')",
   "language": "python",
   "name": "python3"
  },
  "language_info": {
   "codemirror_mode": {
    "name": "ipython",
    "version": 3
   },
   "file_extension": ".py",
   "mimetype": "text/x-python",
   "name": "python",
   "nbconvert_exporter": "python",
   "pygments_lexer": "ipython3",
   "version": "3.8.12"
  },
  "orig_nbformat": 4
 },
 "nbformat": 4,
 "nbformat_minor": 2
}
